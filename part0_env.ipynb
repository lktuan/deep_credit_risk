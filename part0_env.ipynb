{
 "cells": [
  {
   "cell_type": "markdown",
   "metadata": {},
   "source": [
    "# **Environment**"
   ]
  },
  {
   "cell_type": "code",
   "execution_count": 1,
   "metadata": {},
   "outputs": [
    {
     "name": "stdout",
     "output_type": "stream",
     "text": [
      "Python version: 3.11.4 (tags/v3.11.4:d2340ef, Jun  7 2023, 05:45:37) [MSC v.1934 64 bit (AMD64)]\n",
      "Platform: win32\n"
     ]
    }
   ],
   "source": [
    "import sys\n",
    "print(f\"Python version: {sys.version}\")\n",
    "print(f\"Platform: {sys.platform}\")"
   ]
  },
  {
   "cell_type": "code",
   "execution_count": 2,
   "metadata": {},
   "outputs": [
    {
     "name": "stdout",
     "output_type": "stream",
     "text": [
      "Required packages that are installed:\n",
      "statsmodels - Version: 0.14.4\n",
      "lightgbm - Version: 4.5.0\n",
      "pydot - Version: 3.0.2\n",
      "scipy - Version: 1.14.1\n",
      "pymc3 - Version: 3.11.4\n",
      "ipython - Version: 8.29.0\n",
      "lifelines - Version: 0.29.0\n",
      "dcr - Version: 0.0.1\n",
      "tabulate - Version: 0.9.0\n",
      "matplotlib - Version: 3.9.2\n",
      "graphviz - Version: 0.20.3\n",
      "pandas - Version: 2.2.3\n",
      "numpy - Version: 1.26.4\n",
      "joblib - Version: 1.4.2\n",
      "scikit-learn - Version: 1.5.2\n",
      "\n",
      "Required packages that are NOT installed:\n",
      "\n",
      "Extra packages that are installed but not in requirements:\n",
      "comm - Version: 0.2.2\n",
      "wcwidth - Version: 0.2.13\n",
      "fastprogress - Version: 1.0.3\n",
      "arviz - Version: 0.20.0\n",
      "xarray-einstats - Version: 0.8.0\n",
      "jedi - Version: 0.19.1\n",
      "matplotlib-inline - Version: 0.1.7\n",
      "six - Version: 1.16.0\n",
      "cachetools - Version: 5.5.0\n",
      "setuptools - Version: 65.5.0\n",
      "debugpy - Version: 1.8.7\n",
      "tzdata - Version: 2024.2\n",
      "asttokens - Version: 2.4.1\n",
      "ipykernel - Version: 6.29.5\n",
      "prompt-toolkit - Version: 3.0.48\n",
      "parso - Version: 0.8.4\n",
      "traitlets - Version: 5.14.3\n",
      "autograd - Version: 1.7.0\n",
      "nest-asyncio - Version: 1.6.0\n",
      "packaging - Version: 24.1\n",
      "stdlib-list - Version: 0.11.0\n",
      "colorama - Version: 0.4.6\n",
      "filelock - Version: 3.16.1\n",
      "h5netcdf - Version: 1.4.0\n",
      "threadpoolctl - Version: 3.5.0\n",
      "jupyter-client - Version: 8.6.3\n",
      "patsy - Version: 0.5.6\n",
      "pygments - Version: 2.18.0\n",
      "psutil - Version: 6.1.0\n",
      "stack-data - Version: 0.6.3\n",
      "xarray - Version: 2024.10.0\n",
      "decorator - Version: 5.1.1\n",
      "cycler - Version: 0.12.1\n",
      "pytz - Version: 2024.2\n",
      "executing - Version: 2.1.0\n",
      "pyparsing - Version: 3.2.0\n",
      "formulaic - Version: 1.0.2\n",
      "h5py - Version: 3.12.1\n",
      "theano-pymc - Version: 1.1.2\n",
      "python-dateutil - Version: 2.9.0.post0\n",
      "tornado - Version: 6.4.1\n",
      "contourpy - Version: 1.3.0\n",
      "pure-eval - Version: 0.2.3\n",
      "platformdirs - Version: 4.3.6\n",
      "interface-meta - Version: 1.3.0\n",
      "wrapt - Version: 1.16.0\n",
      "kiwisolver - Version: 1.4.7\n",
      "pip - Version: 24.2\n",
      "dill - Version: 0.3.9\n",
      "fonttools - Version: 4.54.1\n",
      "pillow - Version: 11.0.0\n",
      "jupyter-core - Version: 5.7.2\n",
      "autograd-gamma - Version: 0.5.0\n",
      "pywin32 - Version: 308\n",
      "pyzmq - Version: 26.2.0\n",
      "typing-extensions - Version: 4.12.2\n",
      "semver - Version: 3.0.2\n"
     ]
    }
   ],
   "source": [
    "import pkg_resources\n",
    "import subprocess\n",
    "import sys\n",
    "\n",
    "# Read requirements.txt\n",
    "with open('requirements.txt', 'r') as file:\n",
    "    required = {line.strip().split('==')[0].lower() for line in file if line.strip() and not line.startswith('#')}\n",
    "\n",
    "# Get installed packages\n",
    "installed = {pkg.key for pkg in pkg_resources.working_set}\n",
    "\n",
    "print(\"Required packages that are installed:\")\n",
    "for pkg in required.intersection(installed):\n",
    "    # Get the version of installed package\n",
    "    version = pkg_resources.get_distribution(pkg).version\n",
    "    print(f\"{pkg} - Version: {version}\")\n",
    "\n",
    "print(\"\\nRequired packages that are NOT installed:\")\n",
    "for pkg in required - installed:\n",
    "    print(pkg)\n",
    "\n",
    "print(\"\\nExtra packages that are installed but not in requirements:\")\n",
    "for pkg in installed - required:\n",
    "    version = pkg_resources.get_distribution(pkg).version\n",
    "    print(f\"{pkg} - Version: {version}\")"
   ]
  }
 ],
 "metadata": {
  "kernelspec": {
   "display_name": ".venv",
   "language": "python",
   "name": "python3"
  },
  "language_info": {
   "codemirror_mode": {
    "name": "ipython",
    "version": 3
   },
   "file_extension": ".py",
   "mimetype": "text/x-python",
   "name": "python",
   "nbconvert_exporter": "python",
   "pygments_lexer": "ipython3",
   "version": "3.11.4"
  }
 },
 "nbformat": 4,
 "nbformat_minor": 2
}
