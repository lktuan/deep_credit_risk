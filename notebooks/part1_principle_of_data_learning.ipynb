{
 "cells": [
  {
   "cell_type": "markdown",
   "metadata": {},
   "source": [
    "# **Principle of Data Learning**"
   ]
  },
  {
   "cell_type": "markdown",
   "metadata": {},
   "source": [
    "# 1 Deep dive\n",
    "pg. 17-24"
   ]
  },
  {
   "cell_type": "markdown",
   "metadata": {},
   "source": [
    "### Aim of this book:\n",
    "- Understand the role of **liquidity, equity** and many other key banking features;\n",
    "- Engineer and select features;\n",
    "- Predict defaults, payoffs, loss rates and exposures;\n",
    "- Predict downturn and crisis outcomes using pre-crisis features;\n",
    "- Understand the implications of COVID-19;\n",
    "- Apply innovative **sampling techniques** for model training and validation;\n",
    "- Deep-learn from Logit Classifiers to **Random Forests** and Neural Networks\n",
    "- Do unsupervised Clustering, Principal Components and **Bayesian Techniques**;\n",
    "- Build **multi-period** models for CECL, IFRS 9 and CCAR;\n",
    "- Build credit portfolio correlation models for value-at-risk and expected shortfall; and\n",
    "- Run over 1,500 lines of pandas, statsmodels and scikit-learn Python code (`statsmodels`, `scikit-learn`, ...)\n",
    "- Access real credit data and much more . . ."
   ]
  },
  {
   "cell_type": "markdown",
   "metadata": {},
   "source": [
    "### Targetted reader\n",
    "**Credit analysts** in financial institutions, fin-techs and prudential regulators"
   ]
  },
  {
   "cell_type": "markdown",
   "metadata": {},
   "source": [
    "### Credit risk information\n",
    "\n",
    "+ Internal data:\n",
    "    - origination / underwrinting data: from **LOS**;\n",
    "    - performance: monthly / quarterly / annually review covered from the orgination to latest review from **LMS**;\n",
    "    - modification: e.g *restructure???*;\n",
    "    - payoff / retention;\n",
    "    - maturity: relates to maturity time like *release of collateal* or various of accounting activities;\n",
    "    - default / workout: data from default to resolution or collection, can cover up to 10 years!\n",
    "+ External data:\n",
    "    - macro: time varying information that is identical at a given period for all borrowers, maybe **stratified** by country, state, statistiscal area, etc;\n",
    "    - population stats;\n",
    "    - etc like: business filings, data from social networks, ratings agencies, property appraisers, activity profiles of payment systems or transport systems.\n",
    "\n",
    "--> Panel data:\n",
    "+ features (*also known as covariates, risk factors, explanatory variables, independent variables and right-hand side variables*);\n",
    "+ risk-outcomes (*also known as responses, outputs, dependent variables and left-hand side variables*): default, payoff, loss rates, exposures;\n",
    "+ for each loan (`i`) and time (`t`)."
   ]
  },
  {
   "cell_type": "markdown",
   "metadata": {},
   "source": [
    "### Things to consider\n",
    "- Any information that is used in a model must be **measurable** through **sensor** since the model is used to **predict risk outcomes** for new borrowers, loans;\n",
    "- Identifiers:\n",
    "  + *borrowers* or *loans*;\n",
    "  + time: application time, origination time, observation time, payoff time, default time and maturity time;\n",
    "  + think about the scenario that the borrower may be part of a larger holding structure, family, or benefit from guarantees that have credit-risk relevant relationships.\n",
    "- relationships of features and outcomes can be reciprocal or one-way (???)."
   ]
  },
  {
   "cell_type": "markdown",
   "metadata": {},
   "source": [
    "### The dataset\n",
    "+ Panel form: 5k residential US mortgage borrower over 60 periods (quarters);\n",
    "+ Central vars: `id`, and `time`;\n",
    "+ Starts at the beginning of the millennium, includes the Global Financial Crisis (GFC) in period 27 approximately;\n",
    "+ Origination times prior to the start of the observation period have negative numbers;\n",
    "+ Default, payoff and status events are observed one period after features in the same row;\n",
    "+ LGD and related recoveries are observed between the default and resolution time;\n",
    "+ The loans are not observed immediately after origination;\n",
    "+ Order of informations:\n",
    "    - Borrower IDs;\n",
    "    - Time stamps;\n",
    "    - Information features at observation time;\n",
    "    - Information features at loan origination;\n",
    "    - Outcome observations.\n",
    "+ Key variables:\n",
    "    - `id`: borrower id;\n",
    "    - `time`: time stamp of observation;\n",
    "    - `orig_time`: time stamp for origination;\n",
    "    - `first_time`: time stamp for first observation;\n",
    "    - `mat_time`: time stamp for maturity;\n",
    "    - `res_time`: time stamp for resolution;\n",
    "    - `balance_time`: outstanding balance at observation time;\n",
    "    - `LTV_time`: loan to value ratio at observation time, in %;\n",
    "    - `interest_rate_time`: interest rate at observation time, in %;\n",
    "    - `rate_time`: risk-free rate at observation time, in %;\n",
    "    - `hpi_time`: house price index at observation time, base year=100;\n",
    "    - `gdp_time`: GDP growth at observation time, in %;\n",
    "    - `uer_time`: unemployment rate at observation time, in %;\n",
    "    - `REtype_CO_orig_time`: real estate type — condominium: 1, otherwise: 0;\n",
    "    - `REtype_PU_orig_time`: real estate type — planned urban developments: 1, otherwise: 0;\n",
    "    - `REtype_SF_orig_time`: real estate type — single family home: 1, otherwise: 0;\n",
    "    - `investor_orig_time`: investor borrower: 1, otherwise: 0;\n",
    "    - `balance_orig_time`: outstanding balance at origination time;\n",
    "    - `FICO_orig_time`: FICO score at origination time, in %;\n",
    "    - `LTV_orig_time`: loan to value ratio at origination time, in %;\n",
    "    - `Interest_Rate_orig_time`: interest rate at origination time, in %;\n",
    "    - `state_orig_time`: US state in which the property is located;\n",
    "    - `hpi_orig_time`: house price index at origination time, base year=100;\n",
    "    - `default_time`: default outcome at observation time;\n",
    "    - `payoff_time`: payoff outcome at observation time;\n",
    "    - `status_time`: default (1), payoff (2) and non-default/non-payoff (0) outcome at observation time;\n",
    "    - `lgd_time`: LGD outcome, at default time, assuming no discounting of cash flows;\n",
    "    - `recovery_res`: sum of all outcome cash flows received during resolution period.\n",
    "+ `lgd_time`, `recovery_res` and `res_time` are only observed for default_time=1 and if the resolution process is complete;\n",
    "+ `LTV_time` = balance_time / house price at time;\n",
    "+ house price at time = house price at origination * ( `hpi_time` / `hpi_orig_time` );\n",
    "+ house price at origination = `balance_orig_time` / `LTV_orig_time`;"
   ]
  },
  {
   "cell_type": "markdown",
   "metadata": {},
   "source": [
    "### Basel, CECL, IFRS 9, DFAST, CCAR and Stress Tests\n",
    "\n",
    "Critical standards:\n",
    "- Basel: **minimum** amount of required Tier I and Tier II capital. Basel may include the various reforms (Basel I to Basel III), and a number of nationally issued guidance notes;\n",
    "- Current Expected Credit Loss (CECL), IFRS 9: loan loss **provisioning** and **eligible amount** of available Tier I capital;\n",
    "- National stress tests (e.g., Dodd-Frank Act Stress Test (DFAST) or Federal Reserve Bank (FRB) stress tests in the US): requirement of **additional capital buffers**;\n",
    "- Comprehensive Capital Analysis and Review (CCAR): requirement of **additional capital buffers**.\n",
    "\n",
    "Regulations might differ:\n",
    "- Basel requires through-the-cycle PDs, Downturn EADs and Downturn LGDs. CCAR, CECL;\n",
    "- IFRS 9 require Lifetime PDs and EADs/LGDs that are based on current economic circumstances and are forward-looking, i.e., take future expectations into account;\n",
    "- DFAST and FRB stress tests require stressed PDs, LGDs and EADs."
   ]
  },
  {
   "cell_type": "markdown",
   "metadata": {},
   "source": [
    "### Lessons from the COVID-19 Crisis\n",
    "\n",
    "- Impact seems to be more critical than GFC;\n",
    "- Behaviours by banks and governments might temporarily reduce risk in short-term, but might increase in long-term;\n",
    "- Variable: `cep_time`;\n",
    "- Equity next to liquidity is a central aspect, variable `equity_time`;\n",
    "- Time effects;\n",
    "- Challenges:\n",
    "  + *Calculating Crisis PDs without downturn data* -> Model-based measurement of crisis PDs, Parameter-based stress-testing (Margin of conservatism, Bayesian approach); or\n",
    "  + Scenario-based stress-testing, Parameter-based stress-testing (Regime-switching models);\n",
    "  + *Liquidity as a driver of default* -> Estimation of models with liquidity as feature; Inclusion of additional liquidity feature (e.g., income over non-discretionary expenses);\n",
    "  + *Impact of time effects* -> TVA Analysis: control for vintage and age effects through dummy variables or other features that describe the origination process and for time effects  through macroeconomic features;\n",
    "  + *Low default portfolios* -> Most prudent estimators/Margin of conservatism;\n",
    "  + *Validation of pre-crisis models* -> Backtesting: split training and validation sample along time dimension;\n",
    "  + *Ability of machine learning models to predict defaults for severe downturns* -> Backtesting of machine learning approaches;\n",
    "  + *Adequacy of model estimates for Basel requirements* -> Comparison of Basel capital with expected loss.\n",
    "- Main elements of the approach in the book:\n",
    "  + model calibrations should include the latest credit data;\n",
    "  + features that are identified as drivers of credit risk outcomes should be included in the models;\n",
    "  + validation should focus on backtesting and include a train-test split along the time line;\n",
    "  + the adequacy of model estimates for applications like capital adequacy, loan loss provisioning and loan pricing needs to be vetted."
   ]
  },
  {
   "cell_type": "markdown",
   "metadata": {},
   "source": [
    "### Machine Learning\n",
    "\n",
    "- lower variable costs;\n",
    "- higher degree automatized;\n",
    "- credit risk generally realizes in time-lags;\n",
    "- advanced models can adjust quicker to the new risk levels than traditional models."
   ]
  },
  {
   "cell_type": "markdown",
   "metadata": {},
   "source": [
    "# 2 Python Literacy\n",
    "pg. 25-46"
   ]
  },
  {
   "cell_type": "markdown",
   "metadata": {},
   "source": [
    "### What Python is used for in this book:\n",
    "\n",
    "- Describing data;\n",
    "- Plotting data;\n",
    "- Generating new variables;\n",
    "- Transforming variables;\n",
    "- Subsetting data;\n",
    "- Combining data;\n",
    "- Regression models."
   ]
  },
  {
   "cell_type": "markdown",
   "metadata": {},
   "source": [
    "### Packages\n",
    "\n",
    "Data processing:\n",
    "+ `pandas`: Processing data structures: series (1D) and dataframes (2D); see The pandas development team (2020). What pandas offers:\n",
    "  - indexing based on labels (`.loc`) as well as positions (`.iloc`);\n",
    "  - data sub-setting;\n",
    "  - dataset splitting, merging and joining;\n",
    "  - time-series functionality;\n",
    "+ `numpy`: Processing of n-dimensional array objects, see Harris et al. (2020);\n",
    "+ `scipy`: Submodule for statistics, see Virtanen et al. (2020);\n",
    "+ `matplotlib`: Plotting library, see Hunter (2007);\n",
    "+ `math`: Mathematical functions, see VanRossum and Drake (2009);\n",
    "+ `random`: Random number generator,see VanRossum and Drake (2009);\n",
    "+ `tabulate`: Printing tabular data;\n",
    "+ `joblib`: Running functions as pipeline jobs, see Joblib Development Team (2020);\n",
    "+ `pickle`: Converting a object to a file for saving, see VanRossum and Drake (2009);\n",
    "+ `scikit-learn`: Machine learning techniques, see Pedregosa et al. (2011);\n",
    "\n",
    "Building models:\n",
    "+ `statsmodels`: Fitting statistical models. Interacts with pandas data frames to fit statistical models, see Seabold and Perktold (2010);\n",
    "+ `IPython`: Interactive computing, see Pérez and Granger (2007);\n",
    "+ `pydot` and `graphviz`: Plotting of decision trees;\n",
    "+ `pymc3`: Probabilistic programming, see Salvatier et al. (2016);\n",
    "+ `lifelines`: Survival analysis, see Davidson-Pilon (2019);\n",
    "+ `lightgbm`: Gradient boosting, see Ke et al. (2017)."
   ]
  },
  {
   "cell_type": "markdown",
   "metadata": {},
   "source": [
    "### Coding guidelines\n",
    "+ Limit the number of dataset copies;\n",
    "+ Limit the use of non-common packages;\n",
    "+ Name functions and datasets with lower case letters;\n",
    "+ Use label-based indexing (`.loc`);\n",
    "+ Separate individual steps with an empty line;\n",
    "+ Insert comments using hashtags;\n",
    "+ Random draws are hard-coded using seeds;\n",
    "+ You may set up virtual environment to hard-code versions of packages and ensure that the same results are obtained in later executions."
   ]
  },
  {
   "cell_type": "markdown",
   "metadata": {},
   "source": [
    "### First look"
   ]
  },
  {
   "cell_type": "code",
   "execution_count": 1,
   "metadata": {},
   "outputs": [
    {
     "ename": "FileNotFoundError",
     "evalue": "[Errno 2] No such file or directory: 'C:/Users/09124/AppData/Local/Programs/Python/Python310/Lib/site-packages/dcr.csv'",
     "output_type": "error",
     "traceback": [
      "\u001b[1;31m---------------------------------------------------------------------------\u001b[0m",
      "\u001b[1;31mFileNotFoundError\u001b[0m                         Traceback (most recent call last)",
      "Cell \u001b[1;32mIn[1], line 4\u001b[0m\n\u001b[0;32m      2\u001b[0m \u001b[38;5;28;01mimport\u001b[39;00m \u001b[38;5;21;01mmatplotlib\u001b[39;00m\n\u001b[0;32m      3\u001b[0m \u001b[38;5;28;01mimport\u001b[39;00m \u001b[38;5;21;01mmatplotlib\u001b[39;00m\u001b[38;5;21;01m.\u001b[39;00m\u001b[38;5;21;01mpyplot\u001b[39;00m \u001b[38;5;28;01mas\u001b[39;00m \u001b[38;5;21;01mplt\u001b[39;00m\n\u001b[1;32m----> 4\u001b[0m \u001b[38;5;28;01mfrom\u001b[39;00m \u001b[38;5;21;01mdcr\u001b[39;00m \u001b[38;5;28;01mimport\u001b[39;00m \u001b[38;5;241m*\u001b[39m \u001b[38;5;66;03m# import a dataframe named \"data\"\u001b[39;00m\n\u001b[0;32m      6\u001b[0m \u001b[38;5;66;03m# config the plot output\u001b[39;00m\n\u001b[0;32m      7\u001b[0m get_ipython()\u001b[38;5;241m.\u001b[39mrun_line_magic(\u001b[38;5;124m'\u001b[39m\u001b[38;5;124mmatplotlib\u001b[39m\u001b[38;5;124m'\u001b[39m, \u001b[38;5;124m'\u001b[39m\u001b[38;5;124minline\u001b[39m\u001b[38;5;124m'\u001b[39m)\n",
      "File \u001b[1;32mc:\\Users\\Tuan Le\\git\\deep_credit_risk\\.venv\\Lib\\site-packages\\dcr.py:69\u001b[0m\n\u001b[0;32m     66\u001b[0m pd\u001b[38;5;241m.\u001b[39mset_option(\u001b[38;5;124m'\u001b[39m\u001b[38;5;124mdisplay.max_rows\u001b[39m\u001b[38;5;124m'\u001b[39m,\u001b[38;5;241m10\u001b[39m)\n\u001b[0;32m     68\u001b[0m \u001b[38;5;66;03m# Change path here if data is saved in a different location\u001b[39;00m\n\u001b[1;32m---> 69\u001b[0m data \u001b[38;5;241m=\u001b[39m \u001b[43mpd\u001b[49m\u001b[38;5;241;43m.\u001b[39;49m\u001b[43mread_csv\u001b[49m\u001b[43m(\u001b[49m\u001b[38;5;124;43m'\u001b[39;49m\u001b[38;5;124;43mC:/Users/09124/AppData/Local/Programs/Python/Python310/Lib/site-packages/dcr.csv\u001b[39;49m\u001b[38;5;124;43m'\u001b[39;49m\u001b[43m)\u001b[49m\n\u001b[0;32m     71\u001b[0m \u001b[38;5;28;01mimport\u001b[39;00m \u001b[38;5;21;01mwarnings\u001b[39;00m; warnings\u001b[38;5;241m.\u001b[39msimplefilter(\u001b[38;5;124m'\u001b[39m\u001b[38;5;124mignore\u001b[39m\u001b[38;5;124m'\u001b[39m)\n\u001b[0;32m     73\u001b[0m \u001b[38;5;66;03m# Function Versions    \u001b[39;00m\n",
      "File \u001b[1;32mc:\\Users\\Tuan Le\\git\\deep_credit_risk\\.venv\\Lib\\site-packages\\pandas\\io\\parsers\\readers.py:1026\u001b[0m, in \u001b[0;36mread_csv\u001b[1;34m(filepath_or_buffer, sep, delimiter, header, names, index_col, usecols, dtype, engine, converters, true_values, false_values, skipinitialspace, skiprows, skipfooter, nrows, na_values, keep_default_na, na_filter, verbose, skip_blank_lines, parse_dates, infer_datetime_format, keep_date_col, date_parser, date_format, dayfirst, cache_dates, iterator, chunksize, compression, thousands, decimal, lineterminator, quotechar, quoting, doublequote, escapechar, comment, encoding, encoding_errors, dialect, on_bad_lines, delim_whitespace, low_memory, memory_map, float_precision, storage_options, dtype_backend)\u001b[0m\n\u001b[0;32m   1013\u001b[0m kwds_defaults \u001b[38;5;241m=\u001b[39m _refine_defaults_read(\n\u001b[0;32m   1014\u001b[0m     dialect,\n\u001b[0;32m   1015\u001b[0m     delimiter,\n\u001b[1;32m   (...)\u001b[0m\n\u001b[0;32m   1022\u001b[0m     dtype_backend\u001b[38;5;241m=\u001b[39mdtype_backend,\n\u001b[0;32m   1023\u001b[0m )\n\u001b[0;32m   1024\u001b[0m kwds\u001b[38;5;241m.\u001b[39mupdate(kwds_defaults)\n\u001b[1;32m-> 1026\u001b[0m \u001b[38;5;28;01mreturn\u001b[39;00m \u001b[43m_read\u001b[49m\u001b[43m(\u001b[49m\u001b[43mfilepath_or_buffer\u001b[49m\u001b[43m,\u001b[49m\u001b[43m \u001b[49m\u001b[43mkwds\u001b[49m\u001b[43m)\u001b[49m\n",
      "File \u001b[1;32mc:\\Users\\Tuan Le\\git\\deep_credit_risk\\.venv\\Lib\\site-packages\\pandas\\io\\parsers\\readers.py:620\u001b[0m, in \u001b[0;36m_read\u001b[1;34m(filepath_or_buffer, kwds)\u001b[0m\n\u001b[0;32m    617\u001b[0m _validate_names(kwds\u001b[38;5;241m.\u001b[39mget(\u001b[38;5;124m\"\u001b[39m\u001b[38;5;124mnames\u001b[39m\u001b[38;5;124m\"\u001b[39m, \u001b[38;5;28;01mNone\u001b[39;00m))\n\u001b[0;32m    619\u001b[0m \u001b[38;5;66;03m# Create the parser.\u001b[39;00m\n\u001b[1;32m--> 620\u001b[0m parser \u001b[38;5;241m=\u001b[39m \u001b[43mTextFileReader\u001b[49m\u001b[43m(\u001b[49m\u001b[43mfilepath_or_buffer\u001b[49m\u001b[43m,\u001b[49m\u001b[43m \u001b[49m\u001b[38;5;241;43m*\u001b[39;49m\u001b[38;5;241;43m*\u001b[39;49m\u001b[43mkwds\u001b[49m\u001b[43m)\u001b[49m\n\u001b[0;32m    622\u001b[0m \u001b[38;5;28;01mif\u001b[39;00m chunksize \u001b[38;5;129;01mor\u001b[39;00m iterator:\n\u001b[0;32m    623\u001b[0m     \u001b[38;5;28;01mreturn\u001b[39;00m parser\n",
      "File \u001b[1;32mc:\\Users\\Tuan Le\\git\\deep_credit_risk\\.venv\\Lib\\site-packages\\pandas\\io\\parsers\\readers.py:1620\u001b[0m, in \u001b[0;36mTextFileReader.__init__\u001b[1;34m(self, f, engine, **kwds)\u001b[0m\n\u001b[0;32m   1617\u001b[0m     \u001b[38;5;28mself\u001b[39m\u001b[38;5;241m.\u001b[39moptions[\u001b[38;5;124m\"\u001b[39m\u001b[38;5;124mhas_index_names\u001b[39m\u001b[38;5;124m\"\u001b[39m] \u001b[38;5;241m=\u001b[39m kwds[\u001b[38;5;124m\"\u001b[39m\u001b[38;5;124mhas_index_names\u001b[39m\u001b[38;5;124m\"\u001b[39m]\n\u001b[0;32m   1619\u001b[0m \u001b[38;5;28mself\u001b[39m\u001b[38;5;241m.\u001b[39mhandles: IOHandles \u001b[38;5;241m|\u001b[39m \u001b[38;5;28;01mNone\u001b[39;00m \u001b[38;5;241m=\u001b[39m \u001b[38;5;28;01mNone\u001b[39;00m\n\u001b[1;32m-> 1620\u001b[0m \u001b[38;5;28mself\u001b[39m\u001b[38;5;241m.\u001b[39m_engine \u001b[38;5;241m=\u001b[39m \u001b[38;5;28;43mself\u001b[39;49m\u001b[38;5;241;43m.\u001b[39;49m\u001b[43m_make_engine\u001b[49m\u001b[43m(\u001b[49m\u001b[43mf\u001b[49m\u001b[43m,\u001b[49m\u001b[43m \u001b[49m\u001b[38;5;28;43mself\u001b[39;49m\u001b[38;5;241;43m.\u001b[39;49m\u001b[43mengine\u001b[49m\u001b[43m)\u001b[49m\n",
      "File \u001b[1;32mc:\\Users\\Tuan Le\\git\\deep_credit_risk\\.venv\\Lib\\site-packages\\pandas\\io\\parsers\\readers.py:1880\u001b[0m, in \u001b[0;36mTextFileReader._make_engine\u001b[1;34m(self, f, engine)\u001b[0m\n\u001b[0;32m   1878\u001b[0m     \u001b[38;5;28;01mif\u001b[39;00m \u001b[38;5;124m\"\u001b[39m\u001b[38;5;124mb\u001b[39m\u001b[38;5;124m\"\u001b[39m \u001b[38;5;129;01mnot\u001b[39;00m \u001b[38;5;129;01min\u001b[39;00m mode:\n\u001b[0;32m   1879\u001b[0m         mode \u001b[38;5;241m+\u001b[39m\u001b[38;5;241m=\u001b[39m \u001b[38;5;124m\"\u001b[39m\u001b[38;5;124mb\u001b[39m\u001b[38;5;124m\"\u001b[39m\n\u001b[1;32m-> 1880\u001b[0m \u001b[38;5;28mself\u001b[39m\u001b[38;5;241m.\u001b[39mhandles \u001b[38;5;241m=\u001b[39m \u001b[43mget_handle\u001b[49m\u001b[43m(\u001b[49m\n\u001b[0;32m   1881\u001b[0m \u001b[43m    \u001b[49m\u001b[43mf\u001b[49m\u001b[43m,\u001b[49m\n\u001b[0;32m   1882\u001b[0m \u001b[43m    \u001b[49m\u001b[43mmode\u001b[49m\u001b[43m,\u001b[49m\n\u001b[0;32m   1883\u001b[0m \u001b[43m    \u001b[49m\u001b[43mencoding\u001b[49m\u001b[38;5;241;43m=\u001b[39;49m\u001b[38;5;28;43mself\u001b[39;49m\u001b[38;5;241;43m.\u001b[39;49m\u001b[43moptions\u001b[49m\u001b[38;5;241;43m.\u001b[39;49m\u001b[43mget\u001b[49m\u001b[43m(\u001b[49m\u001b[38;5;124;43m\"\u001b[39;49m\u001b[38;5;124;43mencoding\u001b[39;49m\u001b[38;5;124;43m\"\u001b[39;49m\u001b[43m,\u001b[49m\u001b[43m \u001b[49m\u001b[38;5;28;43;01mNone\u001b[39;49;00m\u001b[43m)\u001b[49m\u001b[43m,\u001b[49m\n\u001b[0;32m   1884\u001b[0m \u001b[43m    \u001b[49m\u001b[43mcompression\u001b[49m\u001b[38;5;241;43m=\u001b[39;49m\u001b[38;5;28;43mself\u001b[39;49m\u001b[38;5;241;43m.\u001b[39;49m\u001b[43moptions\u001b[49m\u001b[38;5;241;43m.\u001b[39;49m\u001b[43mget\u001b[49m\u001b[43m(\u001b[49m\u001b[38;5;124;43m\"\u001b[39;49m\u001b[38;5;124;43mcompression\u001b[39;49m\u001b[38;5;124;43m\"\u001b[39;49m\u001b[43m,\u001b[49m\u001b[43m \u001b[49m\u001b[38;5;28;43;01mNone\u001b[39;49;00m\u001b[43m)\u001b[49m\u001b[43m,\u001b[49m\n\u001b[0;32m   1885\u001b[0m \u001b[43m    \u001b[49m\u001b[43mmemory_map\u001b[49m\u001b[38;5;241;43m=\u001b[39;49m\u001b[38;5;28;43mself\u001b[39;49m\u001b[38;5;241;43m.\u001b[39;49m\u001b[43moptions\u001b[49m\u001b[38;5;241;43m.\u001b[39;49m\u001b[43mget\u001b[49m\u001b[43m(\u001b[49m\u001b[38;5;124;43m\"\u001b[39;49m\u001b[38;5;124;43mmemory_map\u001b[39;49m\u001b[38;5;124;43m\"\u001b[39;49m\u001b[43m,\u001b[49m\u001b[43m \u001b[49m\u001b[38;5;28;43;01mFalse\u001b[39;49;00m\u001b[43m)\u001b[49m\u001b[43m,\u001b[49m\n\u001b[0;32m   1886\u001b[0m \u001b[43m    \u001b[49m\u001b[43mis_text\u001b[49m\u001b[38;5;241;43m=\u001b[39;49m\u001b[43mis_text\u001b[49m\u001b[43m,\u001b[49m\n\u001b[0;32m   1887\u001b[0m \u001b[43m    \u001b[49m\u001b[43merrors\u001b[49m\u001b[38;5;241;43m=\u001b[39;49m\u001b[38;5;28;43mself\u001b[39;49m\u001b[38;5;241;43m.\u001b[39;49m\u001b[43moptions\u001b[49m\u001b[38;5;241;43m.\u001b[39;49m\u001b[43mget\u001b[49m\u001b[43m(\u001b[49m\u001b[38;5;124;43m\"\u001b[39;49m\u001b[38;5;124;43mencoding_errors\u001b[39;49m\u001b[38;5;124;43m\"\u001b[39;49m\u001b[43m,\u001b[49m\u001b[43m \u001b[49m\u001b[38;5;124;43m\"\u001b[39;49m\u001b[38;5;124;43mstrict\u001b[39;49m\u001b[38;5;124;43m\"\u001b[39;49m\u001b[43m)\u001b[49m\u001b[43m,\u001b[49m\n\u001b[0;32m   1888\u001b[0m \u001b[43m    \u001b[49m\u001b[43mstorage_options\u001b[49m\u001b[38;5;241;43m=\u001b[39;49m\u001b[38;5;28;43mself\u001b[39;49m\u001b[38;5;241;43m.\u001b[39;49m\u001b[43moptions\u001b[49m\u001b[38;5;241;43m.\u001b[39;49m\u001b[43mget\u001b[49m\u001b[43m(\u001b[49m\u001b[38;5;124;43m\"\u001b[39;49m\u001b[38;5;124;43mstorage_options\u001b[39;49m\u001b[38;5;124;43m\"\u001b[39;49m\u001b[43m,\u001b[49m\u001b[43m \u001b[49m\u001b[38;5;28;43;01mNone\u001b[39;49;00m\u001b[43m)\u001b[49m\u001b[43m,\u001b[49m\n\u001b[0;32m   1889\u001b[0m \u001b[43m\u001b[49m\u001b[43m)\u001b[49m\n\u001b[0;32m   1890\u001b[0m \u001b[38;5;28;01massert\u001b[39;00m \u001b[38;5;28mself\u001b[39m\u001b[38;5;241m.\u001b[39mhandles \u001b[38;5;129;01mis\u001b[39;00m \u001b[38;5;129;01mnot\u001b[39;00m \u001b[38;5;28;01mNone\u001b[39;00m\n\u001b[0;32m   1891\u001b[0m f \u001b[38;5;241m=\u001b[39m \u001b[38;5;28mself\u001b[39m\u001b[38;5;241m.\u001b[39mhandles\u001b[38;5;241m.\u001b[39mhandle\n",
      "File \u001b[1;32mc:\\Users\\Tuan Le\\git\\deep_credit_risk\\.venv\\Lib\\site-packages\\pandas\\io\\common.py:873\u001b[0m, in \u001b[0;36mget_handle\u001b[1;34m(path_or_buf, mode, encoding, compression, memory_map, is_text, errors, storage_options)\u001b[0m\n\u001b[0;32m    868\u001b[0m \u001b[38;5;28;01melif\u001b[39;00m \u001b[38;5;28misinstance\u001b[39m(handle, \u001b[38;5;28mstr\u001b[39m):\n\u001b[0;32m    869\u001b[0m     \u001b[38;5;66;03m# Check whether the filename is to be opened in binary mode.\u001b[39;00m\n\u001b[0;32m    870\u001b[0m     \u001b[38;5;66;03m# Binary mode does not support 'encoding' and 'newline'.\u001b[39;00m\n\u001b[0;32m    871\u001b[0m     \u001b[38;5;28;01mif\u001b[39;00m ioargs\u001b[38;5;241m.\u001b[39mencoding \u001b[38;5;129;01mand\u001b[39;00m \u001b[38;5;124m\"\u001b[39m\u001b[38;5;124mb\u001b[39m\u001b[38;5;124m\"\u001b[39m \u001b[38;5;129;01mnot\u001b[39;00m \u001b[38;5;129;01min\u001b[39;00m ioargs\u001b[38;5;241m.\u001b[39mmode:\n\u001b[0;32m    872\u001b[0m         \u001b[38;5;66;03m# Encoding\u001b[39;00m\n\u001b[1;32m--> 873\u001b[0m         handle \u001b[38;5;241m=\u001b[39m \u001b[38;5;28;43mopen\u001b[39;49m\u001b[43m(\u001b[49m\n\u001b[0;32m    874\u001b[0m \u001b[43m            \u001b[49m\u001b[43mhandle\u001b[49m\u001b[43m,\u001b[49m\n\u001b[0;32m    875\u001b[0m \u001b[43m            \u001b[49m\u001b[43mioargs\u001b[49m\u001b[38;5;241;43m.\u001b[39;49m\u001b[43mmode\u001b[49m\u001b[43m,\u001b[49m\n\u001b[0;32m    876\u001b[0m \u001b[43m            \u001b[49m\u001b[43mencoding\u001b[49m\u001b[38;5;241;43m=\u001b[39;49m\u001b[43mioargs\u001b[49m\u001b[38;5;241;43m.\u001b[39;49m\u001b[43mencoding\u001b[49m\u001b[43m,\u001b[49m\n\u001b[0;32m    877\u001b[0m \u001b[43m            \u001b[49m\u001b[43merrors\u001b[49m\u001b[38;5;241;43m=\u001b[39;49m\u001b[43merrors\u001b[49m\u001b[43m,\u001b[49m\n\u001b[0;32m    878\u001b[0m \u001b[43m            \u001b[49m\u001b[43mnewline\u001b[49m\u001b[38;5;241;43m=\u001b[39;49m\u001b[38;5;124;43m\"\u001b[39;49m\u001b[38;5;124;43m\"\u001b[39;49m\u001b[43m,\u001b[49m\n\u001b[0;32m    879\u001b[0m \u001b[43m        \u001b[49m\u001b[43m)\u001b[49m\n\u001b[0;32m    880\u001b[0m     \u001b[38;5;28;01melse\u001b[39;00m:\n\u001b[0;32m    881\u001b[0m         \u001b[38;5;66;03m# Binary mode\u001b[39;00m\n\u001b[0;32m    882\u001b[0m         handle \u001b[38;5;241m=\u001b[39m \u001b[38;5;28mopen\u001b[39m(handle, ioargs\u001b[38;5;241m.\u001b[39mmode)\n",
      "\u001b[1;31mFileNotFoundError\u001b[0m: [Errno 2] No such file or directory: 'C:/Users/09124/AppData/Local/Programs/Python/Python310/Lib/site-packages/dcr.csv'"
     ]
    }
   ],
   "source": [
    "import warnings; warnings.simplefilter('ignore')\n",
    "import matplotlib\n",
    "import matplotlib.pyplot as plt\n",
    "from dcr import * # import a dataframe named \"data\"\n",
    "\n",
    "# config the plot output\n",
    "%matplotlib inline\n",
    "plt.rcParams['figure.dpi'] = 300\n",
    "plt.rcParams['figure.figsize'] = (16, 9)\n",
    "plt.rcParams.update({'font.size': 16})"
   ]
  },
  {
   "cell_type": "markdown",
   "metadata": {},
   "source": [
    "#### Creating object, sub-sampling features, printing result"
   ]
  },
  {
   "cell_type": "code",
   "execution_count": 8,
   "metadata": {},
   "outputs": [
    {
     "ename": "NameError",
     "evalue": "name 'data' is not defined",
     "output_type": "error",
     "traceback": [
      "\u001b[1;31m---------------------------------------------------------------------------\u001b[0m",
      "\u001b[1;31mNameError\u001b[0m                                 Traceback (most recent call last)",
      "Cell \u001b[1;32mIn[8], line 1\u001b[0m\n\u001b[1;32m----> 1\u001b[0m data2 \u001b[38;5;241m=\u001b[39m \u001b[43mdata\u001b[49m[[\u001b[38;5;124m'\u001b[39m\u001b[38;5;124mid\u001b[39m\u001b[38;5;124m'\u001b[39m, \u001b[38;5;124m'\u001b[39m\u001b[38;5;124mtime\u001b[39m\u001b[38;5;124m'\u001b[39m, \u001b[38;5;124m'\u001b[39m\u001b[38;5;124mgdp_time\u001b[39m\u001b[38;5;124m'\u001b[39m, \u001b[38;5;124m'\u001b[39m\u001b[38;5;124mFICO_orig_time\u001b[39m\u001b[38;5;124m'\u001b[39m, \u001b[38;5;124m'\u001b[39m\u001b[38;5;124mLTV_time\u001b[39m\u001b[38;5;124m'\u001b[39m]]\n\u001b[0;32m      2\u001b[0m \u001b[38;5;28mprint\u001b[39m(data2)\n",
      "\u001b[1;31mNameError\u001b[0m: name 'data' is not defined"
     ]
    }
   ],
   "source": [
    "data2 = data[['id', 'time', 'gdp_time', 'FICO_orig_time', 'LTV_time']]\n",
    "print(data2)"
   ]
  },
  {
   "cell_type": "markdown",
   "metadata": {},
   "source": [
    "# 3 Risk-based Learning\n",
    "pg. 47-67"
   ]
  },
  {
   "cell_type": "markdown",
   "metadata": {},
   "source": [
    "# 4 Machine Learning\n",
    "pg. 68-90"
   ]
  }
 ],
 "metadata": {
  "kernelspec": {
   "display_name": "dcr_env",
   "language": "python",
   "name": "dcr_env"
  },
  "language_info": {
   "codemirror_mode": {
    "name": "ipython",
    "version": 3
   },
   "file_extension": ".py",
   "mimetype": "text/x-python",
   "name": "python",
   "nbconvert_exporter": "python",
   "pygments_lexer": "ipython3",
   "version": "3.11.4"
  }
 },
 "nbformat": 4,
 "nbformat_minor": 2
}
