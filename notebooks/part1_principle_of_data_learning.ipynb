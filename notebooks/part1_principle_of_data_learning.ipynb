{
 "cells": [
  {
   "cell_type": "markdown",
   "metadata": {},
   "source": [
    "# **Principle of Data Learning**"
   ]
  },
  {
   "cell_type": "markdown",
   "metadata": {},
   "source": [
    "# 1 Deep dive\n",
    "pg. 17-24"
   ]
  },
  {
   "cell_type": "markdown",
   "metadata": {},
   "source": [
    "### Aim of this book:\n",
    "- Understand the role of **liquidity, equity** and many other key banking features;\n",
    "- Engineer and select features;\n",
    "- Predict defaults, payoffs, loss rates and exposures;\n",
    "- Predict downturn and crisis outcomes using pre-crisis features;\n",
    "- Understand the implications of COVID-19;\n",
    "- Apply innovative **sampling techniques** for model training and validation;\n",
    "- Deep-learn from Logit Classifiers to **Random Forests** and Neural Networks\n",
    "- Do unsupervised Clustering, Principal Components and **Bayesian Techniques**;\n",
    "- Build **multi-period** models for CECL, IFRS 9 and CCAR;\n",
    "- Build credit portfolio correlation models for value-at-risk and expected shortfall; and\n",
    "- Run over 1,500 lines of pandas, statsmodels and scikit-learn Python code (`statsmodels`, `scikit-learn`, ...)\n",
    "- Access real credit data and much more . . ."
   ]
  },
  {
   "cell_type": "markdown",
   "metadata": {},
   "source": [
    "### Targetted reader\n",
    "**Credit analysts** in financial institutions, fin-techs and prudential regulators"
   ]
  },
  {
   "cell_type": "markdown",
   "metadata": {},
   "source": [
    "### Credit risk information\n",
    "\n",
    "+ Internal data:\n",
    "    - origination / underwrinting data: from **LOS**;\n",
    "    - performance: monthly / quarterly / annually review covered from the orgination to latest review from **LMS**;\n",
    "    - modification: e.g *restructure???*;\n",
    "    - payoff / retention;\n",
    "    - maturity: relates to maturity time like *release of collateal* or various of accounting activities;\n",
    "    - default / workout: data from default to resolution or collection, can cover up to 10 years!\n",
    "+ External data:\n",
    "    - macro: time varying information that is identical at a given period for all borrowers, maybe **stratified** by country, state, statistiscal area, etc;\n",
    "    - population stats;\n",
    "    - etc like: business filings, data from social networks, ratings agencies, property appraisers, activity profiles of payment systems or transport systems.\n",
    "\n",
    "--> Panel data:\n",
    "+ features (*also known as covariates, risk factors, explanatory variables, independent variables and right-hand side variables*);\n",
    "+ risk-outcomes (*also known as responses, outputs, dependent variables and left-hand side variables*): default, payoff, loss rates, exposures;\n",
    "+ for each loan (`i`) and time (`t`)."
   ]
  },
  {
   "cell_type": "markdown",
   "metadata": {},
   "source": [
    "### Things to consider\n",
    "- Any information that is used in a model must be **measurable** through **sensor** since the model is used to **predict risk outcomes** for new borrowers, loans;\n",
    "- Identifiers:\n",
    "  + *borrowers* or *loans*;\n",
    "  + time: application time, origination time, observation time, payoff time, default time and maturity time;\n",
    "  + think about the scenario that the borrower may be part of a larger holding structure, family, or benefit from guarantees that have credit-risk relevant relationships.\n",
    "- relationships of features and outcomes can be reciprocal or one-way (???)."
   ]
  },
  {
   "cell_type": "markdown",
   "metadata": {},
   "source": [
    "### The dataset\n",
    "+ Panel form: 5k residential US mortgage borrower over 60 periods (quarters);\n",
    "+ Central vars: `id`, and `time`;\n",
    "+ Starts at the beginning of the millennium, includes the Global Financial Crisis (GFC) in period 27 approximately;\n",
    "+ Origination times prior to the start of the observation period have negative numbers;\n",
    "+ Default, payoff and status events are observed one period after features in the same row;\n",
    "+ LGD and related recoveries are observed between the default and resolution time;\n",
    "+ The loans are not observed immediately after origination;\n",
    "+ Order of informations:\n",
    "    - Borrower IDs;\n",
    "    - Time stamps;\n",
    "    - Information features at observation time;\n",
    "    - Information features at loan origination;\n",
    "    - Outcome observations.\n",
    "+ Key variables:\n",
    "    - `id`: borrower id;\n",
    "    - `time`: time stamp of observation;\n",
    "    - `orig_time`: time stamp for origination;\n",
    "    - `first_time`: time stamp for first observation;\n",
    "    - `mat_time`: time stamp for maturity;\n",
    "    - `res_time`: time stamp for resolution;\n",
    "    - `balance_time`: outstanding balance at observation time;\n",
    "    - `LTV_time`: loan to value ratio at observation time, in %;\n",
    "    - `interest_rate_time`: interest rate at observation time, in %;\n",
    "    - `rate_time`: risk-free rate at observation time, in %;\n",
    "    - `hpi_time`: house price index at observation time, base year=100;\n",
    "    - `gdp_time`: GDP growth at observation time, in %;\n",
    "    - `uer_time`: unemployment rate at observation time, in %;\n",
    "    - `REtype_CO_orig_time`: real estate type — condominium: 1, otherwise: 0;\n",
    "    - `REtype_PU_orig_time`: real estate type — planned urban developments: 1, otherwise: 0;\n",
    "    - `REtype_SF_orig_time`: real estate type — single family home: 1, otherwise: 0;\n",
    "    - `investor_orig_time`: investor borrower: 1, otherwise: 0;\n",
    "    - `balance_orig_time`: outstanding balance at origination time;\n",
    "    - `FICO_orig_time`: FICO score at origination time, in %;\n",
    "    - `LTV_orig_time`: loan to value ratio at origination time, in %;\n",
    "    - `Interest_Rate_orig_time`: interest rate at origination time, in %;\n",
    "    - `state_orig_time`: US state in which the property is located;\n",
    "    - `hpi_orig_time`: house price index at origination time, base year=100;\n",
    "    - `default_time`: default outcome at observation time;\n",
    "    - `payoff_time`: payoff outcome at observation time;\n",
    "    - `status_time`: default (1), payoff (2) and non-default/non-payoff (0) outcome at observation time;\n",
    "    - `lgd_time`: LGD outcome, at default time, assuming no discounting of cash flows;\n",
    "    - `recovery_res`: sum of all outcome cash flows received during resolution period.\n",
    "+ `lgd_time`, `recovery_res` and `res_time` are only observed for default_time=1 and if the resolution process is complete;\n",
    "+ `LTV_time` = balance_time / house price at time;\n",
    "+ house price at time = house price at origination * ( `hpi_time` / `hpi_orig_time` );\n",
    "+ house price at origination = `balance_orig_time` / `LTV_orig_time`;"
   ]
  },
  {
   "cell_type": "markdown",
   "metadata": {},
   "source": [
    "### Basel, CECL, IFRS 9, DFAST, CCAR and Stress Tests\n",
    "\n",
    "Critical standards:\n",
    "- Basel: **minimum** amount of required Tier I and Tier II capital. Basel may include the various reforms (Basel I to Basel III), and a number of nationally issued guidance notes;\n",
    "- Current Expected Credit Loss (CECL), IFRS 9: loan loss **provisioning** and **eligible amount** of available Tier I capital;\n",
    "- National stress tests (e.g., Dodd-Frank Act Stress Test (DFAST) or Federal Reserve Bank (FRB) stress tests in the US): requirement of **additional capital buffers**;\n",
    "- Comprehensive Capital Analysis and Review (CCAR): requirement of **additional capital buffers**.\n",
    "\n",
    "Regulations might differ:\n",
    "- Basel requires through-the-cycle PDs, Downturn EADs and Downturn LGDs. CCAR, CECL;\n",
    "- IFRS 9 require Lifetime PDs and EADs/LGDs that are based on current economic circumstances and are forward-looking, i.e., take future expectations into account;\n",
    "- DFAST and FRB stress tests require stressed PDs, LGDs and EADs."
   ]
  },
  {
   "cell_type": "markdown",
   "metadata": {},
   "source": [
    "### Lessons from the COVID-19 Crisis\n",
    "\n",
    "- Impact seems to be more critical than GFC;\n",
    "- Behaviours by banks and governments might temporarily reduce risk in short-term, but might increase in long-term;\n",
    "- Variable: `cep_time`;\n",
    "- Equity next to liquidity is a central aspect, variable `equity_time`;\n",
    "- Time effects;\n",
    "- Challenges:\n",
    "  + *Calculating Crisis PDs without downturn data* -> Model-based measurement of crisis PDs, Parameter-based stress-testing (Margin of conservatism, Bayesian approach); or\n",
    "  + Scenario-based stress-testing, Parameter-based stress-testing (Regime-switching models);\n",
    "  + *Liquidity as a driver of default* -> Estimation of models with liquidity as feature; Inclusion of additional liquidity feature (e.g., income over non-discretionary expenses);\n",
    "  + *Impact of time effects* -> TVA Analysis: control for vintage and age effects through dummy variables or other features that describe the origination process and for time effects  through macroeconomic features;\n",
    "  + *Low default portfolios* -> Most prudent estimators/Margin of conservatism;\n",
    "  + *Validation of pre-crisis models* -> Backtesting: split training and validation sample along time dimension;\n",
    "  + *Ability of machine learning models to predict defaults for severe downturns* -> Backtesting of machine learning approaches;\n",
    "  + *Adequacy of model estimates for Basel requirements* -> Comparison of Basel capital with expected loss.\n",
    "- Main elements of the approach in the book:\n",
    "  + model calibrations should include the latest credit data;\n",
    "  + features that are identified as drivers of credit risk outcomes should be included in the models;\n",
    "  + validation should focus on backtesting and include a train-test split along the time line;\n",
    "  + the adequacy of model estimates for applications like capital adequacy, loan loss provisioning and loan pricing needs to be vetted."
   ]
  },
  {
   "cell_type": "markdown",
   "metadata": {},
   "source": [
    "### Machine Learning\n",
    "\n",
    "- lower variable costs;\n",
    "- higher degree automatized;\n",
    "- credit risk generally realizes in time-lags;\n",
    "- advanced models can adjust quicker to the new risk levels than traditional models."
   ]
  },
  {
   "cell_type": "markdown",
   "metadata": {},
   "source": [
    "# 2 Python Literacy\n",
    "pg. 25-46"
   ]
  },
  {
   "cell_type": "markdown",
   "metadata": {},
   "source": [
    "### What Python is used for in this book:\n",
    "\n",
    "- Describing data;\n",
    "- Plotting data;\n",
    "- Generating new variables;\n",
    "- Transforming variables;\n",
    "- Subsetting data;\n",
    "- Combining data;\n",
    "- Regression models."
   ]
  },
  {
   "cell_type": "markdown",
   "metadata": {},
   "source": [
    "### Packages\n",
    "\n",
    "Data processing:\n",
    "+ `pandas`: Processing data structures: series (1D) and dataframes (2D); see The pandas development team (2020). What pandas offers:\n",
    "  - indexing based on labels (`.loc`) as well as positions (`.iloc`);\n",
    "  - data sub-setting;\n",
    "  - dataset splitting, merging and joining;\n",
    "  - time-series functionality;\n",
    "+ `numpy`: Processing of n-dimensional array objects, see Harris et al. (2020);\n",
    "+ `scipy`: Submodule for statistics, see Virtanen et al. (2020);\n",
    "+ `matplotlib`: Plotting library, see Hunter (2007);\n",
    "+ `math`: Mathematical functions, see VanRossum and Drake (2009);\n",
    "+ `random`: Random number generator,see VanRossum and Drake (2009);\n",
    "+ `tabulate`: Printing tabular data;\n",
    "+ `joblib`: Running functions as pipeline jobs, see Joblib Development Team (2020);\n",
    "+ `pickle`: Converting a object to a file for saving, see VanRossum and Drake (2009);\n",
    "+ `scikit-learn`: Machine learning techniques, see Pedregosa et al. (2011);\n",
    "\n",
    "Building models:\n",
    "+ `statsmodels`: Fitting statistical models. Interacts with pandas data frames to fit statistical models, see Seabold and Perktold (2010);\n",
    "+ `IPython`: Interactive computing, see Pérez and Granger (2007);\n",
    "+ `pydot` and `graphviz`: Plotting of decision trees;\n",
    "+ `pymc3`: Probabilistic programming, see Salvatier et al. (2016);\n",
    "+ `lifelines`: Survival analysis, see Davidson-Pilon (2019);\n",
    "+ `lightgbm`: Gradient boosting, see Ke et al. (2017)."
   ]
  },
  {
   "cell_type": "markdown",
   "metadata": {},
   "source": [
    "### Coding guidelines\n",
    "+ Limit the number of dataset copies;\n",
    "+ Limit the use of non-common packages;\n",
    "+ Name functions and datasets with lower case letters;\n",
    "+ Use label-based indexing (`.loc`);\n",
    "+ Separate individual steps with an empty line;\n",
    "+ Insert comments using hashtags;\n",
    "+ Random draws are hard-coded using seeds;\n",
    "+ You may set up virtual environment to hard-code versions of packages and ensure that the same results are obtained in later executions."
   ]
  },
  {
   "cell_type": "markdown",
   "metadata": {},
   "source": [
    "### First look"
   ]
  },
  {
   "cell_type": "code",
   "execution_count": 14,
   "metadata": {},
   "outputs": [],
   "source": [
    "import warnings; warnings.simplefilter('ignore')\n",
    "from dcr import * \n",
    "# import a dataframe named \"data\"\n",
    "# and all the packages needed for this book :)\n",
    "\n",
    "# config the plot output\n",
    "%matplotlib inline\n",
    "plt.rcParams['figure.dpi'] = 300\n",
    "plt.rcParams['figure.figsize'] = (16, 9)\n",
    "plt.rcParams.update({'font.size': 16})"
   ]
  },
  {
   "cell_type": "markdown",
   "metadata": {},
   "source": [
    "#### Creating object, sub-sampling features, printing result"
   ]
  },
  {
   "cell_type": "code",
   "execution_count": 59,
   "metadata": {},
   "outputs": [
    {
     "data": {
      "text/html": [
       "<div>\n",
       "<style scoped>\n",
       "    .dataframe tbody tr th:only-of-type {\n",
       "        vertical-align: middle;\n",
       "    }\n",
       "\n",
       "    .dataframe tbody tr th {\n",
       "        vertical-align: top;\n",
       "    }\n",
       "\n",
       "    .dataframe thead th {\n",
       "        text-align: right;\n",
       "    }\n",
       "</style>\n",
       "<table border=\"1\" class=\"dataframe\">\n",
       "  <thead>\n",
       "    <tr style=\"text-align: right;\">\n",
       "      <th></th>\n",
       "      <th>id</th>\n",
       "      <th>time</th>\n",
       "      <th>gdp_time</th>\n",
       "      <th>FICO_orig_time</th>\n",
       "      <th>LTV_time</th>\n",
       "    </tr>\n",
       "  </thead>\n",
       "  <tbody>\n",
       "    <tr>\n",
       "      <th>0</th>\n",
       "      <td>4.0</td>\n",
       "      <td>25.0</td>\n",
       "      <td>2.90</td>\n",
       "      <td>587.0</td>\n",
       "      <td>33.91</td>\n",
       "    </tr>\n",
       "    <tr>\n",
       "      <th>1</th>\n",
       "      <td>4.0</td>\n",
       "      <td>26.0</td>\n",
       "      <td>2.15</td>\n",
       "      <td>587.0</td>\n",
       "      <td>34.01</td>\n",
       "    </tr>\n",
       "    <tr>\n",
       "      <th>2</th>\n",
       "      <td>4.0</td>\n",
       "      <td>27.0</td>\n",
       "      <td>2.36</td>\n",
       "      <td>587.0</td>\n",
       "      <td>34.34</td>\n",
       "    </tr>\n",
       "    <tr>\n",
       "      <th>3</th>\n",
       "      <td>4.0</td>\n",
       "      <td>28.0</td>\n",
       "      <td>1.23</td>\n",
       "      <td>587.0</td>\n",
       "      <td>34.67</td>\n",
       "    </tr>\n",
       "    <tr>\n",
       "      <th>4</th>\n",
       "      <td>4.0</td>\n",
       "      <td>29.0</td>\n",
       "      <td>1.69</td>\n",
       "      <td>587.0</td>\n",
       "      <td>34.95</td>\n",
       "    </tr>\n",
       "  </tbody>\n",
       "</table>\n",
       "</div>"
      ],
      "text/plain": [
       "    id  time  gdp_time  FICO_orig_time  LTV_time\n",
       "0  4.0  25.0      2.90           587.0     33.91\n",
       "1  4.0  26.0      2.15           587.0     34.01\n",
       "2  4.0  27.0      2.36           587.0     34.34\n",
       "3  4.0  28.0      1.23           587.0     34.67\n",
       "4  4.0  29.0      1.69           587.0     34.95"
      ]
     },
     "execution_count": 59,
     "metadata": {},
     "output_type": "execute_result"
    }
   ],
   "source": [
    "data2 = data[['id', 'time', 'gdp_time', 'FICO_orig_time', 'LTV_time']]\n",
    "data2.head()"
   ]
  },
  {
   "cell_type": "markdown",
   "metadata": {},
   "source": [
    "#### Chaining"
   ]
  },
  {
   "cell_type": "code",
   "execution_count": 3,
   "metadata": {},
   "outputs": [
    {
     "data": {
      "text/html": [
       "<div>\n",
       "<style scoped>\n",
       "    .dataframe tbody tr th:only-of-type {\n",
       "        vertical-align: middle;\n",
       "    }\n",
       "\n",
       "    .dataframe tbody tr th {\n",
       "        vertical-align: top;\n",
       "    }\n",
       "\n",
       "    .dataframe thead th {\n",
       "        text-align: right;\n",
       "    }\n",
       "</style>\n",
       "<table border=\"1\" class=\"dataframe\">\n",
       "  <thead>\n",
       "    <tr style=\"text-align: right;\">\n",
       "      <th></th>\n",
       "      <th>id</th>\n",
       "      <th>time</th>\n",
       "      <th>gdp_time</th>\n",
       "      <th>FICO_orig_time</th>\n",
       "      <th>LTV_time</th>\n",
       "    </tr>\n",
       "  </thead>\n",
       "  <tbody>\n",
       "    <tr>\n",
       "      <th>0</th>\n",
       "      <td>4</td>\n",
       "      <td>25</td>\n",
       "      <td>2.90</td>\n",
       "      <td>587</td>\n",
       "      <td>33.91</td>\n",
       "    </tr>\n",
       "    <tr>\n",
       "      <th>1</th>\n",
       "      <td>4</td>\n",
       "      <td>26</td>\n",
       "      <td>2.15</td>\n",
       "      <td>587</td>\n",
       "      <td>34.01</td>\n",
       "    </tr>\n",
       "    <tr>\n",
       "      <th>2</th>\n",
       "      <td>4</td>\n",
       "      <td>27</td>\n",
       "      <td>2.36</td>\n",
       "      <td>587</td>\n",
       "      <td>34.34</td>\n",
       "    </tr>\n",
       "    <tr>\n",
       "      <th>3</th>\n",
       "      <td>4</td>\n",
       "      <td>28</td>\n",
       "      <td>1.23</td>\n",
       "      <td>587</td>\n",
       "      <td>34.67</td>\n",
       "    </tr>\n",
       "    <tr>\n",
       "      <th>4</th>\n",
       "      <td>4</td>\n",
       "      <td>29</td>\n",
       "      <td>1.69</td>\n",
       "      <td>587</td>\n",
       "      <td>34.95</td>\n",
       "    </tr>\n",
       "  </tbody>\n",
       "</table>\n",
       "</div>"
      ],
      "text/plain": [
       "   id  time  gdp_time  FICO_orig_time  LTV_time\n",
       "0   4    25      2.90             587     33.91\n",
       "1   4    26      2.15             587     34.01\n",
       "2   4    27      2.36             587     34.34\n",
       "3   4    28      1.23             587     34.67\n",
       "4   4    29      1.69             587     34.95"
      ]
     },
     "execution_count": 3,
     "metadata": {},
     "output_type": "execute_result"
    }
   ],
   "source": [
    "data2 = data[['id', 'time', 'gdp_time', 'FICO_orig_time', 'LTV_time']].round(decimals=2)\n",
    "data2.head(5)"
   ]
  },
  {
   "cell_type": "markdown",
   "metadata": {},
   "source": [
    "#### Describing"
   ]
  },
  {
   "cell_type": "code",
   "execution_count": 4,
   "metadata": {},
   "outputs": [
    {
     "name": "stdout",
     "output_type": "stream",
     "text": [
      "<class 'pandas.core.frame.DataFrame'>\n",
      "RangeIndex: 62178 entries, 0 to 62177\n",
      "Data columns (total 28 columns):\n",
      " #   Column                   Non-Null Count  Dtype  \n",
      "---  ------                   --------------  -----  \n",
      " 0   id                       62178 non-null  int64  \n",
      " 1   time                     62178 non-null  int64  \n",
      " 2   orig_time                62178 non-null  int64  \n",
      " 3   first_time               62178 non-null  int64  \n",
      " 4   mat_time                 62178 non-null  int64  \n",
      " 5   res_time                 1160 non-null   float64\n",
      " 6   balance_time             62178 non-null  float64\n",
      " 7   LTV_time                 62153 non-null  float64\n",
      " 8   interest_rate_time       62178 non-null  float64\n",
      " 9   rate_time                62178 non-null  float64\n",
      " 10  hpi_time                 62178 non-null  float64\n",
      " 11  gdp_time                 62178 non-null  float64\n",
      " 12  uer_time                 62178 non-null  float64\n",
      " 13  REtype_CO_orig_time      62178 non-null  int64  \n",
      " 14  REtype_PU_orig_time      62178 non-null  int64  \n",
      " 15  REtype_SF_orig_time      62178 non-null  int64  \n",
      " 16  investor_orig_time       62178 non-null  int64  \n",
      " 17  balance_orig_time        62178 non-null  float64\n",
      " 18  FICO_orig_time           62178 non-null  int64  \n",
      " 19  LTV_orig_time            62178 non-null  float64\n",
      " 20  Interest_Rate_orig_time  62178 non-null  float64\n",
      " 21  state_orig_time          61828 non-null  object \n",
      " 22  hpi_orig_time            62178 non-null  float64\n",
      " 23  default_time             62178 non-null  int64  \n",
      " 24  payoff_time              62178 non-null  int64  \n",
      " 25  status_time              62178 non-null  int64  \n",
      " 26  lgd_time                 1525 non-null   float64\n",
      " 27  recovery_res             1525 non-null   float64\n",
      "dtypes: float64(14), int64(13), object(1)\n",
      "memory usage: 13.3+ MB\n"
     ]
    }
   ],
   "source": [
    "data.info()"
   ]
  },
  {
   "cell_type": "code",
   "execution_count": 5,
   "metadata": {},
   "outputs": [
    {
     "data": {
      "text/plain": [
       "(62178, 28)"
      ]
     },
     "execution_count": 5,
     "metadata": {},
     "output_type": "execute_result"
    }
   ],
   "source": [
    "# get dimension of the data\n",
    "data.shape"
   ]
  },
  {
   "cell_type": "code",
   "execution_count": 9,
   "metadata": {},
   "outputs": [
    {
     "data": {
      "text/plain": [
       "array(['id', 'time', 'orig_time', 'first_time', 'mat_time', 'res_time',\n",
       "       'balance_time', 'LTV_time', 'interest_rate_time', 'rate_time',\n",
       "       'hpi_time', 'gdp_time', 'uer_time', 'REtype_CO_orig_time',\n",
       "       'REtype_PU_orig_time', 'REtype_SF_orig_time', 'investor_orig_time',\n",
       "       'balance_orig_time', 'FICO_orig_time', 'LTV_orig_time',\n",
       "       'Interest_Rate_orig_time', 'state_orig_time', 'hpi_orig_time',\n",
       "       'default_time', 'payoff_time', 'status_time', 'lgd_time',\n",
       "       'recovery_res'], dtype=object)"
      ]
     },
     "execution_count": 9,
     "metadata": {},
     "output_type": "execute_result"
    }
   ],
   "source": [
    "# another way to view all columns\n",
    "data.columns.values"
   ]
  },
  {
   "cell_type": "code",
   "execution_count": 11,
   "metadata": {},
   "outputs": [
    {
     "data": {
      "text/html": [
       "<div>\n",
       "<style scoped>\n",
       "    .dataframe tbody tr th:only-of-type {\n",
       "        vertical-align: middle;\n",
       "    }\n",
       "\n",
       "    .dataframe tbody tr th {\n",
       "        vertical-align: top;\n",
       "    }\n",
       "\n",
       "    .dataframe thead th {\n",
       "        text-align: right;\n",
       "    }\n",
       "</style>\n",
       "<table border=\"1\" class=\"dataframe\">\n",
       "  <thead>\n",
       "    <tr style=\"text-align: right;\">\n",
       "      <th></th>\n",
       "      <th>FICO_orig_time</th>\n",
       "      <th>LTV_orig_time</th>\n",
       "      <th>gdp_time</th>\n",
       "    </tr>\n",
       "  </thead>\n",
       "  <tbody>\n",
       "    <tr>\n",
       "      <th>count</th>\n",
       "      <td>62178.00</td>\n",
       "      <td>62178.00</td>\n",
       "      <td>62178.00</td>\n",
       "    </tr>\n",
       "    <tr>\n",
       "      <th>mean</th>\n",
       "      <td>673.36</td>\n",
       "      <td>78.70</td>\n",
       "      <td>1.38</td>\n",
       "    </tr>\n",
       "    <tr>\n",
       "      <th>std</th>\n",
       "      <td>72.10</td>\n",
       "      <td>10.24</td>\n",
       "      <td>1.95</td>\n",
       "    </tr>\n",
       "    <tr>\n",
       "      <th>min</th>\n",
       "      <td>429.00</td>\n",
       "      <td>50.10</td>\n",
       "      <td>-4.15</td>\n",
       "    </tr>\n",
       "    <tr>\n",
       "      <th>25%</th>\n",
       "      <td>628.00</td>\n",
       "      <td>75.00</td>\n",
       "      <td>1.10</td>\n",
       "    </tr>\n",
       "    <tr>\n",
       "      <th>50%</th>\n",
       "      <td>675.00</td>\n",
       "      <td>80.00</td>\n",
       "      <td>1.85</td>\n",
       "    </tr>\n",
       "    <tr>\n",
       "      <th>75%</th>\n",
       "      <td>730.00</td>\n",
       "      <td>80.00</td>\n",
       "      <td>2.69</td>\n",
       "    </tr>\n",
       "    <tr>\n",
       "      <th>max</th>\n",
       "      <td>819.00</td>\n",
       "      <td>119.80</td>\n",
       "      <td>5.13</td>\n",
       "    </tr>\n",
       "  </tbody>\n",
       "</table>\n",
       "</div>"
      ],
      "text/plain": [
       "       FICO_orig_time  LTV_orig_time  gdp_time\n",
       "count        62178.00       62178.00  62178.00\n",
       "mean           673.36          78.70      1.38\n",
       "std             72.10          10.24      1.95\n",
       "min            429.00          50.10     -4.15\n",
       "25%            628.00          75.00      1.10\n",
       "50%            675.00          80.00      1.85\n",
       "75%            730.00          80.00      2.69\n",
       "max            819.00         119.80      5.13"
      ]
     },
     "execution_count": 11,
     "metadata": {},
     "output_type": "execute_result"
    }
   ],
   "source": [
    "data2 = data[['FICO_orig_time', 'LTV_orig_time', 'gdp_time']]\n",
    "\n",
    "data2.describe().round(decimals = 2)"
   ]
  },
  {
   "cell_type": "markdown",
   "metadata": {},
   "source": [
    "- FICO between 429 and 819, avg is 673;\n",
    "- LTV ranges from 50.1% and 119.8%, value exceed than 100% implies that loan at origination is greater than collaterizing house value. It's common for bank to lend at 80% - median;\n",
    "- ..."
   ]
  },
  {
   "cell_type": "markdown",
   "metadata": {},
   "source": [
    "#### Tabulating"
   ]
  },
  {
   "cell_type": "code",
   "execution_count": 19,
   "metadata": {},
   "outputs": [
    {
     "name": "stdout",
     "output_type": "stream",
     "text": [
      "col_0      count  All\n",
      "orig_time            \n",
      "-40           51   51\n",
      "-35            4    4\n",
      "-33            3    3\n",
      "-24            1    1\n",
      "-23            1    1\n",
      "-21            1    1\n",
      "-19           24   24\n",
      "-18           16   16\n",
      "-16           19   19\n",
      "-15           14   14\n"
     ]
    }
   ],
   "source": [
    "table = pd.crosstab(data.orig_time, columns='count', margins=True)\n",
    "\n",
    "print(table.head(10))"
   ]
  },
  {
   "cell_type": "markdown",
   "metadata": {},
   "source": [
    "We more specify 2 columns for the cross-tabulated report\n",
    "\n",
    "For eg., like this: `print(pd.crosstab(data.orig_time, data.time, margins= True))`"
   ]
  },
  {
   "cell_type": "markdown",
   "metadata": {},
   "source": [
    "#### Resetting Index"
   ]
  },
  {
   "cell_type": "code",
   "execution_count": 21,
   "metadata": {},
   "outputs": [
    {
     "data": {
      "text/plain": [
       "RangeIndex(start=0, stop=62178, step=1)"
      ]
     },
     "execution_count": 21,
     "metadata": {},
     "output_type": "execute_result"
    }
   ],
   "source": [
    "data2 = data2.reset_index(drop=True) # if drop = False, the old index will be stored as a new variable called \"Index\"\n",
    "\n",
    "data2.index"
   ]
  },
  {
   "cell_type": "markdown",
   "metadata": {},
   "source": [
    "#### Calculating Mean Values by Time\n",
    "\n",
    "eg. compute mean of FICO at origination over Time"
   ]
  },
  {
   "cell_type": "code",
   "execution_count": 24,
   "metadata": {},
   "outputs": [
    {
     "data": {
      "text/html": [
       "<div>\n",
       "<style scoped>\n",
       "    .dataframe tbody tr th:only-of-type {\n",
       "        vertical-align: middle;\n",
       "    }\n",
       "\n",
       "    .dataframe tbody tr th {\n",
       "        vertical-align: top;\n",
       "    }\n",
       "\n",
       "    .dataframe thead th {\n",
       "        text-align: right;\n",
       "    }\n",
       "</style>\n",
       "<table border=\"1\" class=\"dataframe\">\n",
       "  <thead>\n",
       "    <tr style=\"text-align: right;\">\n",
       "      <th></th>\n",
       "      <th>time</th>\n",
       "      <th>FICO_orig_time</th>\n",
       "    </tr>\n",
       "  </thead>\n",
       "  <tbody>\n",
       "    <tr>\n",
       "      <th>0</th>\n",
       "      <td>1</td>\n",
       "      <td>587.666667</td>\n",
       "    </tr>\n",
       "    <tr>\n",
       "      <th>1</th>\n",
       "      <td>2</td>\n",
       "      <td>602.254902</td>\n",
       "    </tr>\n",
       "    <tr>\n",
       "      <th>2</th>\n",
       "      <td>3</td>\n",
       "      <td>603.104167</td>\n",
       "    </tr>\n",
       "    <tr>\n",
       "      <th>3</th>\n",
       "      <td>4</td>\n",
       "      <td>601.380435</td>\n",
       "    </tr>\n",
       "    <tr>\n",
       "      <th>4</th>\n",
       "      <td>5</td>\n",
       "      <td>601.150538</td>\n",
       "    </tr>\n",
       "    <tr>\n",
       "      <th>5</th>\n",
       "      <td>6</td>\n",
       "      <td>597.878788</td>\n",
       "    </tr>\n",
       "    <tr>\n",
       "      <th>6</th>\n",
       "      <td>7</td>\n",
       "      <td>594.651685</td>\n",
       "    </tr>\n",
       "    <tr>\n",
       "      <th>7</th>\n",
       "      <td>8</td>\n",
       "      <td>587.337662</td>\n",
       "    </tr>\n",
       "    <tr>\n",
       "      <th>8</th>\n",
       "      <td>9</td>\n",
       "      <td>589.362500</td>\n",
       "    </tr>\n",
       "    <tr>\n",
       "      <th>9</th>\n",
       "      <td>10</td>\n",
       "      <td>590.821918</td>\n",
       "    </tr>\n",
       "  </tbody>\n",
       "</table>\n",
       "</div>"
      ],
      "text/plain": [
       "   time  FICO_orig_time\n",
       "0     1      587.666667\n",
       "1     2      602.254902\n",
       "2     3      603.104167\n",
       "3     4      601.380435\n",
       "4     5      601.150538\n",
       "5     6      597.878788\n",
       "6     7      594.651685\n",
       "7     8      587.337662\n",
       "8     9      589.362500\n",
       "9    10      590.821918"
      ]
     },
     "execution_count": 24,
     "metadata": {},
     "output_type": "execute_result"
    }
   ],
   "source": [
    "data2 = data\n",
    "\n",
    "FICO = data2.groupby('time')['FICO_orig_time'].mean().reset_index(drop=False)\n",
    "# we retains the old index as a new variable, this is useful if we want to process index as a feature in pandas\n",
    "\n",
    "FICO.head(10)"
   ]
  },
  {
   "cell_type": "markdown",
   "metadata": {},
   "source": [
    "#### Plotting\n",
    "\n",
    "The mean of FICO increased over time indicated a tigher lending policy"
   ]
  },
  {
   "cell_type": "code",
   "execution_count": 25,
   "metadata": {},
   "outputs": [
    {
     "data": {
      "image/png": "[encoded data removed]",
      "text/plain": [
       "<Figure size 4800x2700 with 1 Axes>"
      ]
     },
     "metadata": {},
     "output_type": "display_data"
    }
   ],
   "source": [
    "plt.plot('time', 'FICO_orig_time', data=FICO)\n",
    "plt.xlabel('Time')\n",
    "plt.ylabel('FICO at origination')\n",
    "plt.ylim([400, 800])\n",
    "plt.show()"
   ]
  },
  {
   "cell_type": "markdown",
   "metadata": {},
   "source": [
    "#### Generating new variables"
   ]
  },
  {
   "cell_type": "code",
   "execution_count": 26,
   "metadata": {},
   "outputs": [],
   "source": [
    "data.loc[:, 'dummy'] = 0\n",
    "# generating a new column dummy = 0"
   ]
  },
  {
   "cell_type": "code",
   "execution_count": 28,
   "metadata": {},
   "outputs": [],
   "source": [
    "data.loc[data['LTV_orig_time'] > 70, 'dummy'] = 1\n",
    "# create new variable dummy and set it = 1 if LTV orig time is > 70\n",
    "\n",
    "# data[['LTV_orig_time']].round(decimals = 2)"
   ]
  },
  {
   "cell_type": "markdown",
   "metadata": {},
   "source": [
    "#### Transforming variables"
   ]
  },
  {
   "cell_type": "code",
   "execution_count": 29,
   "metadata": {},
   "outputs": [
    {
     "name": "stdout",
     "output_type": "stream",
     "text": [
      "   FICO_orig_time  FICO_orig_time2\n",
      "0             587              597\n",
      "1             587              597\n",
      "2             587              597\n",
      "3             587              597\n",
      "4             587              597\n",
      "5             587              597\n",
      "6             587              597\n",
      "7             587              597\n",
      "8             587              597\n",
      "9             587              597\n"
     ]
    }
   ],
   "source": [
    "data.loc[:, 'FICO_orig_time2'] = data.loc[:, 'FICO_orig_time']+10\n",
    "# add FICO orig time by 10\n",
    "\n",
    "print(data[['FICO_orig_time', 'FICO_orig_time2']].head(10))"
   ]
  },
  {
   "cell_type": "code",
   "execution_count": 30,
   "metadata": {},
   "outputs": [
    {
     "name": "stdout",
     "output_type": "stream",
     "text": [
      "   FICO_orig_time  FICO_orig_time2\n",
      "0             587              600\n",
      "1             587              600\n",
      "2             587              600\n",
      "3             587              600\n",
      "4             587              600\n",
      "5             587              600\n",
      "6             587              600\n",
      "7             587              600\n",
      "8             587              600\n",
      "9             587              600\n"
     ]
    }
   ],
   "source": [
    "data.loc[:, 'FICO_orig_time2'] = data.loc[:, 'FICO_orig_time']\n",
    "# duplicate the data\n",
    "\n",
    "data.loc[data['FICO_orig_time2'] <= 600, 'FICO_orig_time2'] = 600\n",
    "# capping / winsoring the lower bound\n",
    "\n",
    "data.loc[data['FICO_orig_time2'] >= 700, 'FICO_orig_time2'] = 700\n",
    "# capping / winsoring the upper bound\n",
    "\n",
    "print(data[['FICO_orig_time', 'FICO_orig_time2']].head(10))"
   ]
  },
  {
   "cell_type": "markdown",
   "metadata": {},
   "source": [
    "#### Subsetting data\n",
    "\n",
    "- We use `dataframe.variable_name` or `dataframe[['variable_name']]` for variable selection;\n",
    "- `.copy()` statement informs pandas to make a copy of the original data;\n",
    "- Importantly, pandas offers label (`dataframe.loc`) and position based indexing (`dataframe.iloc`);\n",
    "- Using `[[]]` returns a dataframe while `[]` returns only a slice of a dataframe;\n",
    "- The arguments in square brackets `[row,column]` indicate the rows and columns separated by a comma. `:` indicates all rows or all columns."
   ]
  },
  {
   "cell_type": "code",
   "execution_count": 38,
   "metadata": {},
   "outputs": [
    {
     "name": "stdout",
     "output_type": "stream",
     "text": [
      "(62178,)\n"
     ]
    }
   ],
   "source": [
    "data2 = data.loc[:, 'FICO_orig_time'].copy()\n",
    "# is the same with\n",
    "data2 = data.iloc[:, 18].copy()\n",
    "\n",
    "print(data2.shape)\n",
    "# a data slice has no column name"
   ]
  },
  {
   "cell_type": "markdown",
   "metadata": {},
   "source": [
    "Below is another sub-sample (first row) of the data set"
   ]
  },
  {
   "cell_type": "code",
   "execution_count": 39,
   "metadata": {},
   "outputs": [
    {
     "name": "stdout",
     "output_type": "stream",
     "text": [
      "(30,)\n"
     ]
    }
   ],
   "source": [
    "data2 = data.loc[0, :].copy()\n",
    "data2 = data.iloc[0, :].copy()\n",
    "print(data2.shape)"
   ]
  },
  {
   "cell_type": "markdown",
   "metadata": {},
   "source": [
    "We might also want to filter the data with a certain condition, can use the `dataframe.query()` command. Note that if rows are deleted the index is retained and gaps in the index sequence can be observed"
   ]
  },
  {
   "cell_type": "code",
   "execution_count": 40,
   "metadata": {},
   "outputs": [
    {
     "name": "stdout",
     "output_type": "stream",
     "text": [
      "Index([   53,    54,    55,    56,    67,    71,  3244,  3245,  3246,  3247,\n",
      "       ...\n",
      "       61844, 61873, 61874, 61875, 61876, 61877, 61878, 61879, 61880, 61881],\n",
      "      dtype='int64', length=838)\n"
     ]
    }
   ],
   "source": [
    "data2 = data.query('FICO_orig_time >= 800').copy()\n",
    "print(data2.index)"
   ]
  },
  {
   "cell_type": "markdown",
   "metadata": {},
   "source": [
    "Random sampling, we can control that the random process will produce the same outcome with setting seed value."
   ]
  },
  {
   "cell_type": "code",
   "execution_count": 41,
   "metadata": {},
   "outputs": [
    {
     "name": "stdout",
     "output_type": "stream",
     "text": [
      "(100, 30)\n"
     ]
    }
   ],
   "source": [
    "data2 = data.sample(100, random_state=12345)\n",
    "print(data2.shape)"
   ]
  },
  {
   "cell_type": "markdown",
   "metadata": {},
   "source": [
    "Droping features"
   ]
  },
  {
   "cell_type": "code",
   "execution_count": 42,
   "metadata": {},
   "outputs": [
    {
     "name": "stdout",
     "output_type": "stream",
     "text": [
      "(62178, 29)\n"
     ]
    }
   ],
   "source": [
    "data2 = data.drop('LTV_orig_time', axis='columns').copy()\n",
    "print(data2.shape)"
   ]
  },
  {
   "cell_type": "code",
   "execution_count": 43,
   "metadata": {},
   "outputs": [
    {
     "name": "stdout",
     "output_type": "stream",
     "text": [
      "(62177, 30)\n"
     ]
    }
   ],
   "source": [
    "data2 = data.drop(0, axis='rows').copy()\n",
    "print(data2.shape)"
   ]
  },
  {
   "cell_type": "markdown",
   "metadata": {},
   "source": [
    "#### Combining data\n",
    "\n",
    "- `.concat` combines two dataframes based on the axis (combine rows or columns);\n",
    "- `.append` combines the rows of two dataframes;\n",
    "- `.merge` combines two dataframes based on matching of values of columns in datasets;\n",
    "- `.join` combines two dataframes based on matching of indexes."
   ]
  },
  {
   "cell_type": "markdown",
   "metadata": {},
   "source": [
    "##### Concatenating\n",
    "\n",
    "combining columns"
   ]
  },
  {
   "cell_type": "code",
   "execution_count": 44,
   "metadata": {},
   "outputs": [
    {
     "name": "stdout",
     "output_type": "stream",
     "text": [
      "(60, 6)\n"
     ]
    }
   ],
   "source": [
    "hpi_time = data.loc[:,['time', 'hpi_time']].drop_duplicates().reset_index(drop=True)\n",
    "uer_time = data.loc[:,['time', 'uer_time']].drop_duplicates().reset_index(drop=True)\n",
    "gdp_time = data.loc[:,['time', 'gdp_time']].drop_duplicates().reset_index(drop=True)\n",
    "\n",
    "macro_time = pd.concat([hpi_time, uer_time, gdp_time], axis=1) # concatenating column\n",
    "print(macro_time.shape)"
   ]
  },
  {
   "cell_type": "markdown",
   "metadata": {},
   "source": [
    "combining rows"
   ]
  },
  {
   "cell_type": "code",
   "execution_count": 45,
   "metadata": {},
   "outputs": [
    {
     "name": "stdout",
     "output_type": "stream",
     "text": [
      "(120, 2)\n"
     ]
    }
   ],
   "source": [
    "macro_time2 = pd.concat([hpi_time, hpi_time], axis=0) # concatenating rows\n",
    "print(macro_time2.shape)"
   ]
  },
  {
   "cell_type": "markdown",
   "metadata": {},
   "source": [
    "##### Appending\n",
    "\n",
    "**This is deprecated in Pandas 2.0**"
   ]
  },
  {
   "cell_type": "code",
   "execution_count": 47,
   "metadata": {},
   "outputs": [],
   "source": [
    "# macro_time2 = hpi_time.append(hpi_time)\n",
    "# print(macro_time2.shape)"
   ]
  },
  {
   "cell_type": "markdown",
   "metadata": {},
   "source": [
    "##### Merging"
   ]
  },
  {
   "cell_type": "code",
   "execution_count": 48,
   "metadata": {},
   "outputs": [
    {
     "name": "stdout",
     "output_type": "stream",
     "text": [
      "data: (62178, 30)\n",
      "data_orig_time: (5000, 15)\n",
      "data_time: (62178, 11)\n",
      "macro_time: (60, 4)\n"
     ]
    }
   ],
   "source": [
    "data_orig_time = data[['id', 'orig_time', 'first_time', 'mat_time', 'res_time', 'REtype_CO_orig_time', 'REtype_PU_orig_time', 'REtype_SF_orig_time', 'investor_orig_time', 'balance_orig_time', 'FICO_orig_time', 'LTV_orig_time', 'Interest_Rate_orig_time', 'state_orig_time', 'hpi_orig_time']].drop_duplicates(subset='id', keep='first')\n",
    "# keep only one observation per loan using drop_duplicates(subset='id', keep='first')\n",
    "\n",
    "data_time = data[['id', 'time', 'balance_time', 'LTV_time', 'interest_rate_time', 'rate_time', 'default_time', 'payoff_time', 'status_time', 'lgd_time', 'recovery_res']]\n",
    "# keep all observations\n",
    "\n",
    "macro_time = data[['time', 'hpi_time', 'gdp_time', 'uer_time']].drop_duplicates()\n",
    "\n",
    "print('data:', data.shape)\n",
    "print('data_orig_time:', data_orig_time.shape)\n",
    "print('data_time:', data_time.shape)\n",
    "print('macro_time:', macro_time.shape)"
   ]
  },
  {
   "cell_type": "code",
   "execution_count": 49,
   "metadata": {},
   "outputs": [
    {
     "name": "stdout",
     "output_type": "stream",
     "text": [
      "Original dataframe data: (62178, 30)\n",
      "Reconstituted dataframe data3: (62178, 28)\n"
     ]
    }
   ],
   "source": [
    "data2 = pd.merge(data_orig_time, data_time, on='id')\n",
    "data3 = pd.merge(data2, macro_time, on='time')\n",
    "print('Original dataframe data:', data.shape)\n",
    "print('Reconstituted dataframe data3:', data3.shape)"
   ]
  },
  {
   "cell_type": "markdown",
   "metadata": {},
   "source": [
    "##### Joining\n",
    "\n",
    "`join` combines two dataframes based on **indexes**"
   ]
  },
  {
   "cell_type": "code",
   "execution_count": 50,
   "metadata": {},
   "outputs": [
    {
     "name": "stdout",
     "output_type": "stream",
     "text": [
      "(60, 2)\n"
     ]
    }
   ],
   "source": [
    "hpi_time = data.loc[:,['time', 'hpi_time']].drop_duplicates().reset_index(drop=True)\n",
    "uer_time = data.loc[:,['time', 'uer_time']].drop_duplicates().reset_index(drop=True)\n",
    "macro_time3 = hpi_time.set_index('time').join(uer_time.set_index('time'), on='time')\n",
    "print(macro_time3.shape)"
   ]
  },
  {
   "cell_type": "markdown",
   "metadata": {},
   "source": [
    "#### Simple regression models\n",
    "\n",
    "try to fit a simple regression model with `statsmodels.formula.api` \\ `smf`"
   ]
  },
  {
   "cell_type": "code",
   "execution_count": 51,
   "metadata": {},
   "outputs": [],
   "source": [
    "data_ols = smf.ols(formula='LTV_time ~ LTV_orig_time + gdp_time', data=data).fit()"
   ]
  },
  {
   "cell_type": "markdown",
   "metadata": {},
   "source": [
    "show the **summary**"
   ]
  },
  {
   "cell_type": "code",
   "execution_count": 52,
   "metadata": {},
   "outputs": [
    {
     "name": "stdout",
     "output_type": "stream",
     "text": [
      "                            OLS Regression Results                            \n",
      "==============================================================================\n",
      "Dep. Variable:               LTV_time   R-squared:                       0.220\n",
      "Model:                            OLS   Adj. R-squared:                  0.220\n",
      "Method:                 Least Squares   F-statistic:                     8772.\n",
      "Date:                Mon, 28 Oct 2024   Prob (F-statistic):               0.00\n",
      "Time:                        00:15:59   Log-Likelihood:            -2.8781e+05\n",
      "No. Observations:               62153   AIC:                         5.756e+05\n",
      "Df Residuals:                   62150   BIC:                         5.756e+05\n",
      "Df Model:                           2                                         \n",
      "Covariance Type:            nonrobust                                         \n",
      "=================================================================================\n",
      "                    coef    std err          t      P>|t|      [0.025      0.975]\n",
      "---------------------------------------------------------------------------------\n",
      "Intercept        13.8450      0.773     17.901      0.000      12.329      15.361\n",
      "LTV_orig_time     0.9632      0.010     99.086      0.000       0.944       0.982\n",
      "gdp_time         -4.5720      0.051    -89.721      0.000      -4.672      -4.472\n",
      "==============================================================================\n",
      "Omnibus:                    88921.993   Durbin-Watson:                   0.105\n",
      "Prob(Omnibus):                  0.000   Jarque-Bera (JB):        123795185.295\n",
      "Skew:                           7.985   Prob(JB):                         0.00\n",
      "Kurtosis:                     221.054   Cond. No.                         617.\n",
      "==============================================================================\n",
      "\n",
      "Notes:\n",
      "[1] Standard Errors assume that the covariance matrix of the errors is correctly specified.\n"
     ]
    }
   ],
   "source": [
    "print(data_ols.summary())"
   ]
  },
  {
   "cell_type": "markdown",
   "metadata": {},
   "source": [
    "#### `pandas` dataframe to `numpy` array and vice versa.\n",
    "\n",
    "+ `pandas.dataframes` are enhanced arrays:\n",
    "    - they can be accessed by integer positions (which we use for rows) as well as labels (which we use for columns/features);\n",
    "    - offers a large range of econometric data operations, including sampling, aggregation, leading/lagging that are particularly helpful for credit risk data;\n",
    "+ `numpy.array` offers the creation and processing of multi-dimensional arrays, linear algebra and random number capabilities:\n",
    "    - are accessed by their integer position with zero as a base;\n",
    "    - are more efficient than Python lists;\n",
    "    - can be accessed by indexes as Python lists.\n"
   ]
  },
  {
   "cell_type": "code",
   "execution_count": 55,
   "metadata": {},
   "outputs": [
    {
     "data": {
      "text/plain": [
       "array([[4.0000e+00, 2.5000e+01, 2.9000e+00, 5.8700e+02, 3.3910e+01],\n",
       "       [4.0000e+00, 2.6000e+01, 2.1500e+00, 5.8700e+02, 3.4010e+01],\n",
       "       [4.0000e+00, 2.7000e+01, 2.3600e+00, 5.8700e+02, 3.4340e+01],\n",
       "       ...,\n",
       "       [4.9972e+04, 5.4000e+01, 1.5100e+00, 7.0800e+02, 9.1870e+01],\n",
       "       [4.9972e+04, 5.5000e+01, 2.4200e+00, 7.0800e+02, 9.1560e+01],\n",
       "       [4.9972e+04, 5.6000e+01, 1.7200e+00, 7.0800e+02, 9.0870e+01]])"
      ]
     },
     "execution_count": 55,
     "metadata": {},
     "output_type": "execute_result"
    }
   ],
   "source": [
    "data2 = data[['id', 'time', 'gdp_time', 'FICO_orig_time', 'LTV_time']].round(decimals=2)\n",
    "# pd dataframe\n",
    "\n",
    "clabels = data2.columns.values\n",
    "# columns of the df\n",
    "\n",
    "data_numpy = data2.values\n",
    "# data of the df, this is numpy array\n",
    "\n",
    "data_numpy\n",
    "# inner brackets indicate rows data"
   ]
  },
  {
   "cell_type": "code",
   "execution_count": 56,
   "metadata": {},
   "outputs": [
    {
     "data": {
      "text/html": [
       "<div>\n",
       "<style scoped>\n",
       "    .dataframe tbody tr th:only-of-type {\n",
       "        vertical-align: middle;\n",
       "    }\n",
       "\n",
       "    .dataframe tbody tr th {\n",
       "        vertical-align: top;\n",
       "    }\n",
       "\n",
       "    .dataframe thead th {\n",
       "        text-align: right;\n",
       "    }\n",
       "</style>\n",
       "<table border=\"1\" class=\"dataframe\">\n",
       "  <thead>\n",
       "    <tr style=\"text-align: right;\">\n",
       "      <th></th>\n",
       "      <th>id</th>\n",
       "      <th>time</th>\n",
       "      <th>gdp_time</th>\n",
       "      <th>FICO_orig_time</th>\n",
       "      <th>LTV_time</th>\n",
       "    </tr>\n",
       "  </thead>\n",
       "  <tbody>\n",
       "    <tr>\n",
       "      <th>0</th>\n",
       "      <td>4.0</td>\n",
       "      <td>25.0</td>\n",
       "      <td>2.90</td>\n",
       "      <td>587.0</td>\n",
       "      <td>33.91</td>\n",
       "    </tr>\n",
       "    <tr>\n",
       "      <th>1</th>\n",
       "      <td>4.0</td>\n",
       "      <td>26.0</td>\n",
       "      <td>2.15</td>\n",
       "      <td>587.0</td>\n",
       "      <td>34.01</td>\n",
       "    </tr>\n",
       "    <tr>\n",
       "      <th>2</th>\n",
       "      <td>4.0</td>\n",
       "      <td>27.0</td>\n",
       "      <td>2.36</td>\n",
       "      <td>587.0</td>\n",
       "      <td>34.34</td>\n",
       "    </tr>\n",
       "    <tr>\n",
       "      <th>3</th>\n",
       "      <td>4.0</td>\n",
       "      <td>28.0</td>\n",
       "      <td>1.23</td>\n",
       "      <td>587.0</td>\n",
       "      <td>34.67</td>\n",
       "    </tr>\n",
       "    <tr>\n",
       "      <th>4</th>\n",
       "      <td>4.0</td>\n",
       "      <td>29.0</td>\n",
       "      <td>1.69</td>\n",
       "      <td>587.0</td>\n",
       "      <td>34.95</td>\n",
       "    </tr>\n",
       "    <tr>\n",
       "      <th>5</th>\n",
       "      <td>4.0</td>\n",
       "      <td>30.0</td>\n",
       "      <td>2.27</td>\n",
       "      <td>587.0</td>\n",
       "      <td>35.62</td>\n",
       "    </tr>\n",
       "    <tr>\n",
       "      <th>6</th>\n",
       "      <td>4.0</td>\n",
       "      <td>31.0</td>\n",
       "      <td>1.85</td>\n",
       "      <td>587.0</td>\n",
       "      <td>37.66</td>\n",
       "    </tr>\n",
       "    <tr>\n",
       "      <th>7</th>\n",
       "      <td>4.0</td>\n",
       "      <td>32.0</td>\n",
       "      <td>1.10</td>\n",
       "      <td>587.0</td>\n",
       "      <td>40.50</td>\n",
       "    </tr>\n",
       "    <tr>\n",
       "      <th>8</th>\n",
       "      <td>4.0</td>\n",
       "      <td>33.0</td>\n",
       "      <td>0.84</td>\n",
       "      <td>587.0</td>\n",
       "      <td>41.64</td>\n",
       "    </tr>\n",
       "    <tr>\n",
       "      <th>9</th>\n",
       "      <td>4.0</td>\n",
       "      <td>34.0</td>\n",
       "      <td>-0.31</td>\n",
       "      <td>587.0</td>\n",
       "      <td>43.23</td>\n",
       "    </tr>\n",
       "  </tbody>\n",
       "</table>\n",
       "</div>"
      ],
      "text/plain": [
       "    id  time  gdp_time  FICO_orig_time  LTV_time\n",
       "0  4.0  25.0      2.90           587.0     33.91\n",
       "1  4.0  26.0      2.15           587.0     34.01\n",
       "2  4.0  27.0      2.36           587.0     34.34\n",
       "3  4.0  28.0      1.23           587.0     34.67\n",
       "4  4.0  29.0      1.69           587.0     34.95\n",
       "5  4.0  30.0      2.27           587.0     35.62\n",
       "6  4.0  31.0      1.85           587.0     37.66\n",
       "7  4.0  32.0      1.10           587.0     40.50\n",
       "8  4.0  33.0      0.84           587.0     41.64\n",
       "9  4.0  34.0     -0.31           587.0     43.23"
      ]
     },
     "execution_count": 56,
     "metadata": {},
     "output_type": "execute_result"
    }
   ],
   "source": [
    "data=pd.DataFrame(data=data_numpy, columns=clabels)\n",
    "\n",
    "data.head(10)"
   ]
  },
  {
   "cell_type": "markdown",
   "metadata": {},
   "source": [
    "#### Module `dcr` and various functions\n",
    "\n",
    "The module provides some functions:\n",
    "- `versions`: produces a table with the package versions in our environment;\n",
    "- `dataprep`: generates economic features, principal components and clusters. Train and test datasets are provided for machine learning techniques for PD and LGD models;\n",
    "- `woe`: computes weight of evidence and information value for features;\n",
    "- `validation`: computes a number of validation measures and visual validation plots;\n",
    "- `resolutionbias`: corrects observed LGD values for resolution bias."
   ]
  },
  {
   "cell_type": "code",
   "execution_count": 57,
   "metadata": {},
   "outputs": [
    {
     "name": "stdout",
     "output_type": "stream",
     "text": [
      "                     Package Version  Acronym\n",
      "0                     Python   3.11.      NaN\n",
      "1                    IPython     NaN  IPython\n",
      "2                       math     NaN     math\n",
      "3   matplotlib.pyplot, pylab   3.9.2      plt\n",
      "4                      numpy  1.26.4       np\n",
      "5                     pandas   2.2.3       pd\n",
      "6                     pickle     4.0   pickle\n",
      "7                     random     NaN   random\n",
      "8                      scipy  1.14.1    scipy\n",
      "9                    sklearn   1.5.2  sklearn\n",
      "10               statsmodels  0.14.4       sm\n"
     ]
    }
   ],
   "source": [
    "versions()"
   ]
  },
  {
   "cell_type": "markdown",
   "metadata": {},
   "source": [
    "#### Sandbox Problems"
   ]
  },
  {
   "cell_type": "code",
   "execution_count": 63,
   "metadata": {},
   "outputs": [],
   "source": [
    "# Create a data subset labeled data2, which includes the variables id, time, LTV_orig_time and LTV_time.\n",
    "from dcr import data\n",
    "data2 = data[['id', 'time', 'LTV_orig_time', 'LTV_time']]"
   ]
  },
  {
   "cell_type": "code",
   "execution_count": 65,
   "metadata": {},
   "outputs": [
    {
     "data": {
      "text/html": [
       "<div>\n",
       "<style scoped>\n",
       "    .dataframe tbody tr th:only-of-type {\n",
       "        vertical-align: middle;\n",
       "    }\n",
       "\n",
       "    .dataframe tbody tr th {\n",
       "        vertical-align: top;\n",
       "    }\n",
       "\n",
       "    .dataframe thead th {\n",
       "        text-align: right;\n",
       "    }\n",
       "</style>\n",
       "<table border=\"1\" class=\"dataframe\">\n",
       "  <thead>\n",
       "    <tr style=\"text-align: right;\">\n",
       "      <th></th>\n",
       "      <th>LTV_orig_time</th>\n",
       "      <th>LTV_time</th>\n",
       "    </tr>\n",
       "  </thead>\n",
       "  <tbody>\n",
       "    <tr>\n",
       "      <th>count</th>\n",
       "      <td>62178.00</td>\n",
       "      <td>62153.00</td>\n",
       "    </tr>\n",
       "    <tr>\n",
       "      <th>mean</th>\n",
       "      <td>78.70</td>\n",
       "      <td>83.32</td>\n",
       "    </tr>\n",
       "    <tr>\n",
       "      <th>std</th>\n",
       "      <td>10.24</td>\n",
       "      <td>28.11</td>\n",
       "    </tr>\n",
       "    <tr>\n",
       "      <th>min</th>\n",
       "      <td>50.10</td>\n",
       "      <td>0.00</td>\n",
       "    </tr>\n",
       "    <tr>\n",
       "      <th>25%</th>\n",
       "      <td>75.00</td>\n",
       "      <td>67.06</td>\n",
       "    </tr>\n",
       "    <tr>\n",
       "      <th>50%</th>\n",
       "      <td>80.00</td>\n",
       "      <td>82.26</td>\n",
       "    </tr>\n",
       "    <tr>\n",
       "      <th>75%</th>\n",
       "      <td>80.00</td>\n",
       "      <td>100.77</td>\n",
       "    </tr>\n",
       "    <tr>\n",
       "      <th>max</th>\n",
       "      <td>119.80</td>\n",
       "      <td>803.51</td>\n",
       "    </tr>\n",
       "  </tbody>\n",
       "</table>\n",
       "</div>"
      ],
      "text/plain": [
       "       LTV_orig_time  LTV_time\n",
       "count       62178.00  62153.00\n",
       "mean           78.70     83.32\n",
       "std            10.24     28.11\n",
       "min            50.10      0.00\n",
       "25%            75.00     67.06\n",
       "50%            80.00     82.26\n",
       "75%            80.00    100.77\n",
       "max           119.80    803.51"
      ]
     },
     "execution_count": 65,
     "metadata": {},
     "output_type": "execute_result"
    }
   ],
   "source": [
    "# Provide descriptive statistics for variables LTV_orig_time and LTV_time.\n",
    "data2[['LTV_orig_time', 'LTV_time']].describe().round(decimals = 2)"
   ]
  },
  {
   "cell_type": "code",
   "execution_count": 68,
   "metadata": {},
   "outputs": [
    {
     "data": {
      "text/html": [
       "<div>\n",
       "<style scoped>\n",
       "    .dataframe tbody tr th:only-of-type {\n",
       "        vertical-align: middle;\n",
       "    }\n",
       "\n",
       "    .dataframe tbody tr th {\n",
       "        vertical-align: top;\n",
       "    }\n",
       "\n",
       "    .dataframe thead th {\n",
       "        text-align: right;\n",
       "    }\n",
       "</style>\n",
       "<table border=\"1\" class=\"dataframe\">\n",
       "  <thead>\n",
       "    <tr style=\"text-align: right;\">\n",
       "      <th></th>\n",
       "      <th>id</th>\n",
       "      <th>time</th>\n",
       "      <th>orig_time</th>\n",
       "      <th>first_time</th>\n",
       "      <th>mat_time</th>\n",
       "      <th>res_time</th>\n",
       "      <th>balance_time</th>\n",
       "      <th>LTV_time</th>\n",
       "      <th>interest_rate_time</th>\n",
       "      <th>rate_time</th>\n",
       "      <th>...</th>\n",
       "      <th>Interest_Rate_orig_time</th>\n",
       "      <th>state_orig_time</th>\n",
       "      <th>hpi_orig_time</th>\n",
       "      <th>default_time</th>\n",
       "      <th>payoff_time</th>\n",
       "      <th>status_time</th>\n",
       "      <th>lgd_time</th>\n",
       "      <th>recovery_res</th>\n",
       "      <th>dummy</th>\n",
       "      <th>FICO_orig_time2</th>\n",
       "    </tr>\n",
       "  </thead>\n",
       "  <tbody>\n",
       "    <tr>\n",
       "      <th>53</th>\n",
       "      <td>20443</td>\n",
       "      <td>59</td>\n",
       "      <td>59</td>\n",
       "      <td>59</td>\n",
       "      <td>177</td>\n",
       "      <td>NaN</td>\n",
       "      <td>630392.94</td>\n",
       "      <td>74.602715</td>\n",
       "      <td>4.500</td>\n",
       "      <td>2.17</td>\n",
       "      <td>...</td>\n",
       "      <td>4.500</td>\n",
       "      <td>AL</td>\n",
       "      <td>187.65</td>\n",
       "      <td>0</td>\n",
       "      <td>0</td>\n",
       "      <td>0</td>\n",
       "      <td>NaN</td>\n",
       "      <td>NaN</td>\n",
       "      <td>1</td>\n",
       "      <td>700</td>\n",
       "    </tr>\n",
       "    <tr>\n",
       "      <th>54</th>\n",
       "      <td>20443</td>\n",
       "      <td>60</td>\n",
       "      <td>59</td>\n",
       "      <td>59</td>\n",
       "      <td>177</td>\n",
       "      <td>NaN</td>\n",
       "      <td>627841.96</td>\n",
       "      <td>73.451425</td>\n",
       "      <td>4.500</td>\n",
       "      <td>2.17</td>\n",
       "      <td>...</td>\n",
       "      <td>4.500</td>\n",
       "      <td>AL</td>\n",
       "      <td>187.65</td>\n",
       "      <td>0</td>\n",
       "      <td>0</td>\n",
       "      <td>0</td>\n",
       "      <td>NaN</td>\n",
       "      <td>NaN</td>\n",
       "      <td>1</td>\n",
       "      <td>700</td>\n",
       "    </tr>\n",
       "    <tr>\n",
       "      <th>55</th>\n",
       "      <td>20444</td>\n",
       "      <td>59</td>\n",
       "      <td>59</td>\n",
       "      <td>59</td>\n",
       "      <td>177</td>\n",
       "      <td>NaN</td>\n",
       "      <td>691646.41</td>\n",
       "      <td>79.682766</td>\n",
       "      <td>4.500</td>\n",
       "      <td>2.17</td>\n",
       "      <td>...</td>\n",
       "      <td>4.500</td>\n",
       "      <td>NJ</td>\n",
       "      <td>187.65</td>\n",
       "      <td>0</td>\n",
       "      <td>0</td>\n",
       "      <td>0</td>\n",
       "      <td>NaN</td>\n",
       "      <td>NaN</td>\n",
       "      <td>1</td>\n",
       "      <td>700</td>\n",
       "    </tr>\n",
       "    <tr>\n",
       "      <th>56</th>\n",
       "      <td>20444</td>\n",
       "      <td>60</td>\n",
       "      <td>59</td>\n",
       "      <td>59</td>\n",
       "      <td>177</td>\n",
       "      <td>NaN</td>\n",
       "      <td>311520.28</td>\n",
       "      <td>35.479149</td>\n",
       "      <td>4.500</td>\n",
       "      <td>2.17</td>\n",
       "      <td>...</td>\n",
       "      <td>4.500</td>\n",
       "      <td>NJ</td>\n",
       "      <td>187.65</td>\n",
       "      <td>0</td>\n",
       "      <td>0</td>\n",
       "      <td>0</td>\n",
       "      <td>NaN</td>\n",
       "      <td>NaN</td>\n",
       "      <td>1</td>\n",
       "      <td>700</td>\n",
       "    </tr>\n",
       "    <tr>\n",
       "      <th>67</th>\n",
       "      <td>20455</td>\n",
       "      <td>60</td>\n",
       "      <td>60</td>\n",
       "      <td>60</td>\n",
       "      <td>178</td>\n",
       "      <td>NaN</td>\n",
       "      <td>1093905.69</td>\n",
       "      <td>63.844314</td>\n",
       "      <td>4.250</td>\n",
       "      <td>1.94</td>\n",
       "      <td>...</td>\n",
       "      <td>4.250</td>\n",
       "      <td>CA</td>\n",
       "      <td>189.82</td>\n",
       "      <td>0</td>\n",
       "      <td>1</td>\n",
       "      <td>2</td>\n",
       "      <td>NaN</td>\n",
       "      <td>NaN</td>\n",
       "      <td>0</td>\n",
       "      <td>700</td>\n",
       "    </tr>\n",
       "    <tr>\n",
       "      <th>71</th>\n",
       "      <td>20459</td>\n",
       "      <td>60</td>\n",
       "      <td>60</td>\n",
       "      <td>60</td>\n",
       "      <td>178</td>\n",
       "      <td>NaN</td>\n",
       "      <td>955773.11</td>\n",
       "      <td>79.647759</td>\n",
       "      <td>4.250</td>\n",
       "      <td>1.94</td>\n",
       "      <td>...</td>\n",
       "      <td>4.250</td>\n",
       "      <td>CA</td>\n",
       "      <td>189.82</td>\n",
       "      <td>0</td>\n",
       "      <td>0</td>\n",
       "      <td>0</td>\n",
       "      <td>NaN</td>\n",
       "      <td>NaN</td>\n",
       "      <td>1</td>\n",
       "      <td>700</td>\n",
       "    </tr>\n",
       "    <tr>\n",
       "      <th>3244</th>\n",
       "      <td>3533</td>\n",
       "      <td>26</td>\n",
       "      <td>23</td>\n",
       "      <td>26</td>\n",
       "      <td>144</td>\n",
       "      <td>NaN</td>\n",
       "      <td>66117.88</td>\n",
       "      <td>78.531195</td>\n",
       "      <td>6.875</td>\n",
       "      <td>4.39</td>\n",
       "      <td>...</td>\n",
       "      <td>6.875</td>\n",
       "      <td>MI</td>\n",
       "      <td>221.91</td>\n",
       "      <td>0</td>\n",
       "      <td>0</td>\n",
       "      <td>0</td>\n",
       "      <td>NaN</td>\n",
       "      <td>NaN</td>\n",
       "      <td>1</td>\n",
       "      <td>700</td>\n",
       "    </tr>\n",
       "    <tr>\n",
       "      <th>3245</th>\n",
       "      <td>3533</td>\n",
       "      <td>27</td>\n",
       "      <td>23</td>\n",
       "      <td>26</td>\n",
       "      <td>144</td>\n",
       "      <td>NaN</td>\n",
       "      <td>66002.75</td>\n",
       "      <td>79.349749</td>\n",
       "      <td>6.875</td>\n",
       "      <td>4.39</td>\n",
       "      <td>...</td>\n",
       "      <td>6.875</td>\n",
       "      <td>MI</td>\n",
       "      <td>221.91</td>\n",
       "      <td>0</td>\n",
       "      <td>0</td>\n",
       "      <td>0</td>\n",
       "      <td>NaN</td>\n",
       "      <td>NaN</td>\n",
       "      <td>1</td>\n",
       "      <td>700</td>\n",
       "    </tr>\n",
       "    <tr>\n",
       "      <th>3246</th>\n",
       "      <td>3533</td>\n",
       "      <td>28</td>\n",
       "      <td>23</td>\n",
       "      <td>26</td>\n",
       "      <td>144</td>\n",
       "      <td>NaN</td>\n",
       "      <td>65827.57</td>\n",
       "      <td>80.119062</td>\n",
       "      <td>6.875</td>\n",
       "      <td>4.39</td>\n",
       "      <td>...</td>\n",
       "      <td>6.875</td>\n",
       "      <td>MI</td>\n",
       "      <td>221.91</td>\n",
       "      <td>0</td>\n",
       "      <td>0</td>\n",
       "      <td>0</td>\n",
       "      <td>NaN</td>\n",
       "      <td>NaN</td>\n",
       "      <td>1</td>\n",
       "      <td>700</td>\n",
       "    </tr>\n",
       "    <tr>\n",
       "      <th>3247</th>\n",
       "      <td>3533</td>\n",
       "      <td>29</td>\n",
       "      <td>23</td>\n",
       "      <td>26</td>\n",
       "      <td>144</td>\n",
       "      <td>NaN</td>\n",
       "      <td>65649.37</td>\n",
       "      <td>80.747621</td>\n",
       "      <td>6.875</td>\n",
       "      <td>4.39</td>\n",
       "      <td>...</td>\n",
       "      <td>6.875</td>\n",
       "      <td>MI</td>\n",
       "      <td>221.91</td>\n",
       "      <td>0</td>\n",
       "      <td>0</td>\n",
       "      <td>0</td>\n",
       "      <td>NaN</td>\n",
       "      <td>NaN</td>\n",
       "      <td>1</td>\n",
       "      <td>700</td>\n",
       "    </tr>\n",
       "  </tbody>\n",
       "</table>\n",
       "<p>10 rows × 30 columns</p>\n",
       "</div>"
      ],
      "text/plain": [
       "         id  time  orig_time  first_time  mat_time  res_time  balance_time  \\\n",
       "53    20443    59         59          59       177       NaN     630392.94   \n",
       "54    20443    60         59          59       177       NaN     627841.96   \n",
       "55    20444    59         59          59       177       NaN     691646.41   \n",
       "56    20444    60         59          59       177       NaN     311520.28   \n",
       "67    20455    60         60          60       178       NaN    1093905.69   \n",
       "71    20459    60         60          60       178       NaN     955773.11   \n",
       "3244   3533    26         23          26       144       NaN      66117.88   \n",
       "3245   3533    27         23          26       144       NaN      66002.75   \n",
       "3246   3533    28         23          26       144       NaN      65827.57   \n",
       "3247   3533    29         23          26       144       NaN      65649.37   \n",
       "\n",
       "       LTV_time  interest_rate_time  rate_time  ...  Interest_Rate_orig_time  \\\n",
       "53    74.602715               4.500       2.17  ...                    4.500   \n",
       "54    73.451425               4.500       2.17  ...                    4.500   \n",
       "55    79.682766               4.500       2.17  ...                    4.500   \n",
       "56    35.479149               4.500       2.17  ...                    4.500   \n",
       "67    63.844314               4.250       1.94  ...                    4.250   \n",
       "71    79.647759               4.250       1.94  ...                    4.250   \n",
       "3244  78.531195               6.875       4.39  ...                    6.875   \n",
       "3245  79.349749               6.875       4.39  ...                    6.875   \n",
       "3246  80.119062               6.875       4.39  ...                    6.875   \n",
       "3247  80.747621               6.875       4.39  ...                    6.875   \n",
       "\n",
       "      state_orig_time  hpi_orig_time  default_time  payoff_time  status_time  \\\n",
       "53                 AL         187.65             0            0            0   \n",
       "54                 AL         187.65             0            0            0   \n",
       "55                 NJ         187.65             0            0            0   \n",
       "56                 NJ         187.65             0            0            0   \n",
       "67                 CA         189.82             0            1            2   \n",
       "71                 CA         189.82             0            0            0   \n",
       "3244               MI         221.91             0            0            0   \n",
       "3245               MI         221.91             0            0            0   \n",
       "3246               MI         221.91             0            0            0   \n",
       "3247               MI         221.91             0            0            0   \n",
       "\n",
       "      lgd_time  recovery_res  dummy  FICO_orig_time2  \n",
       "53         NaN           NaN      1              700  \n",
       "54         NaN           NaN      1              700  \n",
       "55         NaN           NaN      1              700  \n",
       "56         NaN           NaN      1              700  \n",
       "67         NaN           NaN      0              700  \n",
       "71         NaN           NaN      1              700  \n",
       "3244       NaN           NaN      1              700  \n",
       "3245       NaN           NaN      1              700  \n",
       "3246       NaN           NaN      1              700  \n",
       "3247       NaN           NaN      1              700  \n",
       "\n",
       "[10 rows x 30 columns]"
      ]
     },
     "execution_count": 68,
     "metadata": {},
     "output_type": "execute_result"
    }
   ],
   "source": [
    "# Filter dataset data for loans with a FICO score above 800\n",
    "FICO_800 = data.query('FICO_orig_time > 800').copy()\n",
    "\n",
    "FICO_800.head(10)"
   ]
  },
  {
   "cell_type": "code",
   "execution_count": 72,
   "metadata": {},
   "outputs": [
    {
     "data": {
      "text/html": [
       "<div>\n",
       "<style scoped>\n",
       "    .dataframe tbody tr th:only-of-type {\n",
       "        vertical-align: middle;\n",
       "    }\n",
       "\n",
       "    .dataframe tbody tr th {\n",
       "        vertical-align: top;\n",
       "    }\n",
       "\n",
       "    .dataframe thead th {\n",
       "        text-align: right;\n",
       "    }\n",
       "</style>\n",
       "<table border=\"1\" class=\"dataframe\">\n",
       "  <thead>\n",
       "    <tr style=\"text-align: right;\">\n",
       "      <th>default_time</th>\n",
       "      <th>0</th>\n",
       "      <th>1</th>\n",
       "      <th>All</th>\n",
       "    </tr>\n",
       "    <tr>\n",
       "      <th>orig_time</th>\n",
       "      <th></th>\n",
       "      <th></th>\n",
       "      <th></th>\n",
       "    </tr>\n",
       "  </thead>\n",
       "  <tbody>\n",
       "    <tr>\n",
       "      <th>-40</th>\n",
       "      <td>51</td>\n",
       "      <td>0</td>\n",
       "      <td>51</td>\n",
       "    </tr>\n",
       "    <tr>\n",
       "      <th>-35</th>\n",
       "      <td>4</td>\n",
       "      <td>0</td>\n",
       "      <td>4</td>\n",
       "    </tr>\n",
       "    <tr>\n",
       "      <th>-33</th>\n",
       "      <td>3</td>\n",
       "      <td>0</td>\n",
       "      <td>3</td>\n",
       "    </tr>\n",
       "    <tr>\n",
       "      <th>-24</th>\n",
       "      <td>1</td>\n",
       "      <td>0</td>\n",
       "      <td>1</td>\n",
       "    </tr>\n",
       "    <tr>\n",
       "      <th>-23</th>\n",
       "      <td>1</td>\n",
       "      <td>0</td>\n",
       "      <td>1</td>\n",
       "    </tr>\n",
       "    <tr>\n",
       "      <th>-21</th>\n",
       "      <td>0</td>\n",
       "      <td>1</td>\n",
       "      <td>1</td>\n",
       "    </tr>\n",
       "    <tr>\n",
       "      <th>-19</th>\n",
       "      <td>24</td>\n",
       "      <td>0</td>\n",
       "      <td>24</td>\n",
       "    </tr>\n",
       "    <tr>\n",
       "      <th>-18</th>\n",
       "      <td>16</td>\n",
       "      <td>0</td>\n",
       "      <td>16</td>\n",
       "    </tr>\n",
       "    <tr>\n",
       "      <th>-16</th>\n",
       "      <td>19</td>\n",
       "      <td>0</td>\n",
       "      <td>19</td>\n",
       "    </tr>\n",
       "    <tr>\n",
       "      <th>-15</th>\n",
       "      <td>14</td>\n",
       "      <td>0</td>\n",
       "      <td>14</td>\n",
       "    </tr>\n",
       "  </tbody>\n",
       "</table>\n",
       "</div>"
      ],
      "text/plain": [
       "default_time   0  1  All\n",
       "orig_time               \n",
       "-40           51  0   51\n",
       "-35            4  0    4\n",
       "-33            3  0    3\n",
       "-24            1  0    1\n",
       "-23            1  0    1\n",
       "-21            0  1    1\n",
       "-19           24  0   24\n",
       "-18           16  0   16\n",
       "-16           19  0   19\n",
       "-15           14  0   14"
      ]
     },
     "execution_count": 72,
     "metadata": {},
     "output_type": "execute_result"
    }
   ],
   "source": [
    "# Provide a frequency table that shows the number of defaults in the sample.\n",
    "table = pd.crosstab(data.orig_time, data.default_time, margins=True)\n",
    "\n",
    "table.head(10)"
   ]
  },
  {
   "cell_type": "code",
   "execution_count": 73,
   "metadata": {},
   "outputs": [
    {
     "data": {
      "text/html": [
       "<div>\n",
       "<style scoped>\n",
       "    .dataframe tbody tr th:only-of-type {\n",
       "        vertical-align: middle;\n",
       "    }\n",
       "\n",
       "    .dataframe tbody tr th {\n",
       "        vertical-align: top;\n",
       "    }\n",
       "\n",
       "    .dataframe thead th {\n",
       "        text-align: right;\n",
       "    }\n",
       "</style>\n",
       "<table border=\"1\" class=\"dataframe\">\n",
       "  <thead>\n",
       "    <tr style=\"text-align: right;\">\n",
       "      <th>default_time</th>\n",
       "      <th>0</th>\n",
       "      <th>1</th>\n",
       "      <th>All</th>\n",
       "    </tr>\n",
       "    <tr>\n",
       "      <th>time</th>\n",
       "      <th></th>\n",
       "      <th></th>\n",
       "      <th></th>\n",
       "    </tr>\n",
       "  </thead>\n",
       "  <tbody>\n",
       "    <tr>\n",
       "      <th>1</th>\n",
       "      <td>21</td>\n",
       "      <td>0</td>\n",
       "      <td>21</td>\n",
       "    </tr>\n",
       "    <tr>\n",
       "      <th>2</th>\n",
       "      <td>51</td>\n",
       "      <td>0</td>\n",
       "      <td>51</td>\n",
       "    </tr>\n",
       "    <tr>\n",
       "      <th>3</th>\n",
       "      <td>94</td>\n",
       "      <td>2</td>\n",
       "      <td>96</td>\n",
       "    </tr>\n",
       "    <tr>\n",
       "      <th>4</th>\n",
       "      <td>90</td>\n",
       "      <td>2</td>\n",
       "      <td>92</td>\n",
       "    </tr>\n",
       "    <tr>\n",
       "      <th>5</th>\n",
       "      <td>90</td>\n",
       "      <td>3</td>\n",
       "      <td>93</td>\n",
       "    </tr>\n",
       "    <tr>\n",
       "      <th>6</th>\n",
       "      <td>96</td>\n",
       "      <td>3</td>\n",
       "      <td>99</td>\n",
       "    </tr>\n",
       "    <tr>\n",
       "      <th>7</th>\n",
       "      <td>86</td>\n",
       "      <td>3</td>\n",
       "      <td>89</td>\n",
       "    </tr>\n",
       "    <tr>\n",
       "      <th>8</th>\n",
       "      <td>76</td>\n",
       "      <td>1</td>\n",
       "      <td>77</td>\n",
       "    </tr>\n",
       "    <tr>\n",
       "      <th>9</th>\n",
       "      <td>78</td>\n",
       "      <td>2</td>\n",
       "      <td>80</td>\n",
       "    </tr>\n",
       "    <tr>\n",
       "      <th>10</th>\n",
       "      <td>70</td>\n",
       "      <td>3</td>\n",
       "      <td>73</td>\n",
       "    </tr>\n",
       "  </tbody>\n",
       "</table>\n",
       "</div>"
      ],
      "text/plain": [
       "default_time   0  1  All\n",
       "time                    \n",
       "1             21  0   21\n",
       "2             51  0   51\n",
       "3             94  2   96\n",
       "4             90  2   92\n",
       "5             90  3   93\n",
       "6             96  3   99\n",
       "7             86  3   89\n",
       "8             76  1   77\n",
       "9             78  2   80\n",
       "10            70  3   73"
      ]
     },
     "execution_count": 73,
     "metadata": {},
     "output_type": "execute_result"
    }
   ],
   "source": [
    "# Provide a cross-frequency table by variables default_time and time.\n",
    "table2 = pd.crosstab(data.time, data.default_time, margins=True)\n",
    "\n",
    "table2.head(10)"
   ]
  },
  {
   "cell_type": "markdown",
   "metadata": {},
   "source": [
    "# 3 Risk-based Learning\n",
    "pg. 47-67"
   ]
  },
  {
   "cell_type": "code",
   "execution_count": 76,
   "metadata": {},
   "outputs": [],
   "source": [
    "%reset\n",
    "\n",
    "import warnings; warnings.simplefilter('ignore')\n",
    "from dcr import *\n",
    "%matplotlib inline\n",
    "plt.rcParams['figure.dpi'] = 300\n",
    "plt.rcParams['figure.figsize'] = (16, 9)\n",
    "plt.rcParams.update({'font.size': 16})"
   ]
  },
  {
   "cell_type": "markdown",
   "metadata": {},
   "source": [
    "# 4 Machine Learning\n",
    "pg. 68-90"
   ]
  }
 ],
 "metadata": {
  "kernelspec": {
   "display_name": "DCR Environment",
   "language": "python",
   "name": "dcr_env"
  },
  "language_info": {
   "codemirror_mode": {
    "name": "ipython",
    "version": 3
   },
   "file_extension": ".py",
   "mimetype": "text/x-python",
   "name": "python",
   "nbconvert_exporter": "python",
   "pygments_lexer": "ipython3",
   "version": "3.11.4"
  }
 },
 "nbformat": 4,
 "nbformat_minor": 2
}
