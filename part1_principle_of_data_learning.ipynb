{
 "cells": [
  {
   "cell_type": "markdown",
   "metadata": {},
   "source": [
    "# 1 Deep dive\n",
    "pg. 17-24"
   ]
  },
  {
   "cell_type": "markdown",
   "metadata": {},
   "source": [
    "### Aim of this book:\n",
    "- Understand the role of **liquidity, equity** and many other key banking features;\n",
    "- Engineer and select features;\n",
    "- Predict defaults, payoffs, loss rates and exposures;\n",
    "- Predict downturn and crisis outcomes using pre-crisis features;\n",
    "- Understand the implications of COVID-19;\n",
    "- Apply innovative **sampling techniques** for model training and validation;\n",
    "- Deep-learn from Logit Classifiers to **Random Forests** and Neural Networks\n",
    "- Do unsupervised Clustering, Principal Components and **Bayesian Techniques**;\n",
    "- Build **multi-period** models for CECL, IFRS 9 and CCAR;\n",
    "- Build credit portfolio correlation models for value-at-risk and expected shortfall; and\n",
    "- Run over 1,500 lines of pandas, statsmodels and scikit-learn Python code (`statsmodels`, `scikit-learn`, ...)\n",
    "- Access real credit data and much more . . ."
   ]
  },
  {
   "cell_type": "markdown",
   "metadata": {},
   "source": [
    "### Targetted reader\n",
    "**Credit analysts** in financial institutions, fin-techs and prudential regulators"
   ]
  },
  {
   "cell_type": "markdown",
   "metadata": {},
   "source": [
    "### Credit risk information\n",
    "\n",
    "+ Internal data:\n",
    "    - origination / underwrinting data: from **LOS**;\n",
    "    - performance: monthly / quarterly / annually review covered from the orgination to latest review from **LMS**;\n",
    "    - modification: e.g *restructure???*;\n",
    "    - payoff / retention;\n",
    "    - maturity: relates to maturity time like *release of collateal* or various of accounting activities;\n",
    "    - default / workout: data from default to resolution or collection, can cover up to 10 years!\n",
    "+ External data:\n",
    "    - macro: time varying information that is identical at a given period for all borrowers, maybe **stratified** by country, state, statistiscal area, etc;\n",
    "    - population stats;\n",
    "    - etc like: business filings, data from social networks, ratings agencies, property appraisers, activity profiles of payment systems or transport systems.\n",
    "\n",
    "--> Panel data:\n",
    "+ features (*also known as covariates, risk factors, explanatory variables, independent variables and right-hand side variables*);\n",
    "+ risk-outcomes (*also known as responses, outputs, dependent variables and left-hand side variables*): default, payoff, loss rates, exposures;\n",
    "+ for each loan (`i`) and time (`t`)."
   ]
  },
  {
   "cell_type": "markdown",
   "metadata": {},
   "source": [
    "### Things to consider\n",
    "- Any information that is used in a model must be **measurable** through **sensor** since the model is used to **predict risk outcomes** for new borrowers, loans;\n",
    "- Identifiers:\n",
    "  + *borrowers* or *loans*;\n",
    "  + time: application time, origination time, observation time, payoff time, default time and maturity time;\n",
    "  + think about the scenario that the borrower may be part of a larger holding structure, family, or benefit from guarantees that have credit-risk relevant relationships.\n",
    "- relationships of features and outcomes can be reciprocal or one-way (???)."
   ]
  },
  {
   "cell_type": "markdown",
   "metadata": {},
   "source": [
    "# 2 Python Literacy\n",
    "pg. 25-46"
   ]
  },
  {
   "cell_type": "markdown",
   "metadata": {},
   "source": [
    "# 3 Risk-based Learning\n",
    "pg. 47-67"
   ]
  },
  {
   "cell_type": "markdown",
   "metadata": {},
   "source": [
    "# 4 Machine \n",
    "pg. 68-90"
   ]
  }
 ],
 "metadata": {
  "kernelspec": {
   "display_name": ".venv",
   "language": "python",
   "name": "python3"
  },
  "language_info": {
   "codemirror_mode": {
    "name": "ipython",
    "version": 3
   },
   "file_extension": ".py",
   "mimetype": "text/x-python",
   "name": "python",
   "nbconvert_exporter": "python",
   "pygments_lexer": "ipython3",
   "version": "3.11.4"
  }
 },
 "nbformat": 4,
 "nbformat_minor": 2
}
